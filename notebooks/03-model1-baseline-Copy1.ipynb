{
 "cells": [
  {
   "cell_type": "code",
   "execution_count": null,
   "id": "broad-division",
   "metadata": {},
   "outputs": [],
   "source": [
    "import pandas as pd\n",
    "import seaborn as sns\n",
    "import string\n",
    "import warnings\n",
    "import matplotlib.pyplot as plt\n",
    "import pickle\n",
    "import numpy as np\n",
    "import spacy \n",
    "from spacy.lang.en import English\n",
    "import time\n",
    "from sklearn.model_selection import train_test_split\n",
    "from sklearn.metrics import accuracy_score\n",
    "from xgboost import XGBClassifier\n",
    "warnings.filterwarnings(\"ignore\")"
   ]
  },
  {
   "cell_type": "markdown",
   "id": "supported-romance",
   "metadata": {},
   "source": [
    "#### 1. Read in data"
   ]
  },
  {
   "cell_type": "code",
   "execution_count": null,
   "id": "universal-guatemala",
   "metadata": {},
   "outputs": [],
   "source": [
    "df = pd.read_csv('/home/jupyter/sb-entity-classification/data/data.csv')\n",
    "df.columns = ['class','name']"
   ]
  },
  {
   "cell_type": "markdown",
   "id": "spectacular-textbook",
   "metadata": {},
   "source": [
    "####  2. Train, Validation, Test split"
   ]
  },
  {
   "cell_type": "code",
   "execution_count": null,
   "id": "modified-single",
   "metadata": {},
   "outputs": [],
   "source": [
    "train, test = train_test_split(df, test_size = 0.2, random_state = 42, shuffle = True)"
   ]
  },
  {
   "cell_type": "markdown",
   "id": "pediatric-cartoon",
   "metadata": {},
   "source": [
    "#### 3. Create features"
   ]
  },
  {
   "cell_type": "markdown",
   "id": "missing-premises",
   "metadata": {},
   "source": [
    "##### 3.1. Simple statistical features already explored in EDA"
   ]
  },
  {
   "cell_type": "code",
   "execution_count": null,
   "id": "legal-reform",
   "metadata": {},
   "outputs": [],
   "source": [
    "def create_statistical_features(df):\n",
    "    df_features = df.copy()\n",
    "\n",
    "    df_features['num_chars'] = df['name'].str.len()\n",
    "    df_features['num_words'] = df_features['name'].apply(lambda x: len(x.split()))\n",
    "\n",
    "    count = lambda l1,l2: sum([1 for x in l1 if x in l2]) \n",
    "    df_features['num_punctuations']= df_features['name'].apply(lambda x: count(x,set(string.punctuation)))\n",
    "    df_features['num_ascii']= df_features['name'].apply(lambda x: count(x,set(string.ascii_letters)))\n",
    "    df_features['num_whitespace']= df_features['name'].apply(lambda x: count(x,set(string.whitespace)))\n",
    "    df_features['num_digits']= df_features['name'].apply(lambda x: count(x,set(string.digits)))\n",
    "    df_features['num_nonascii'] = df_features['num_chars']-df_features['num_punctuations']-df_features['num_digits']-df_features['num_ascii']- df_features['num_whitespace']\n",
    "    df_features = df_features.drop(['num_whitespace', 'num_ascii'], axis = 1)\n",
    "    \n",
    "    return df_features"
   ]
  },
  {
   "cell_type": "code",
   "execution_count": null,
   "id": "criminal-billion",
   "metadata": {},
   "outputs": [],
   "source": [
    "train_statistical_features = create_statistical_features(train)\n",
    "all_cols = train_statistical_features.columns.tolist()\n",
    "statistical_feature_cols = [x for x in all_cols if x not in ['class', 'name']]\n",
    "train_statistical_features = train_statistical_features[statistical_feature_cols]"
   ]
  },
  {
   "cell_type": "markdown",
   "id": "listed-proportion",
   "metadata": {},
   "source": [
    "##### 3.2 keyword in brackets also explored in EDA"
   ]
  },
  {
   "cell_type": "code",
   "execution_count": 16,
   "id": "pregnant-registration",
   "metadata": {},
   "outputs": [],
   "source": [
    "# based on common sense -\n",
    "hand_code_keywords = ['company']+['musician', 'singer', 'writer', 'artist', 'author']\\\n",
    "+ ['footballer', 'cricketer', 'football', 'baseball', 'rugby', 'hockey'] +\\\n",
    "['politician'] +['ship'] + ['crater', 'river'] + ['horse'] +['plant']\\\n",
    "+['album', 'EP', 'soundtrack'] +['film'] +['novel', 'magazine', 'book', 'journal', 'play', 'comics', 'newspaper', 'manga']"
   ]
  },
  {
   "cell_type": "code",
   "execution_count": 17,
   "id": "continent-yesterday",
   "metadata": {},
   "outputs": [],
   "source": [
    "def create_keyword_features(df):\n",
    "    df_features = df.copy()\n",
    "    df_features['within_brackets'] = df['name'].str.extract('.*\\((.*)\\).*')\n",
    "\n",
    "    df_features_with_brackets = df_features[['within_brackets']].dropna(axis = 0)\n",
    "    for keyword in hand_code_keywords:\n",
    "        df_features_with_brackets['has_{}'.format(keyword)] = df_features_with_brackets['within_brackets']\\\n",
    "                                                                .apply(lambda x: keyword in x.lower() )\n",
    "\n",
    "    df_features = df_features.drop('within_brackets', axis = 1)\n",
    "    df_features_with_brackets = df_features_with_brackets.drop('within_brackets', axis = 1)\n",
    "\n",
    "    df_features_with_brackets.replace({True:1, False:0}, inplace = True)\n",
    "    df_features = df_features.merge(df_features_with_brackets, left_index = True, right_index = True, how = 'left')\n",
    "    df_features.fillna(0, inplace = True)\n",
    "    \n",
    "    return df_features"
   ]
  },
  {
   "cell_type": "code",
   "execution_count": 18,
   "id": "romantic-trade",
   "metadata": {},
   "outputs": [],
   "source": [
    "train_keyword_features = create_keyword_features(train)\n",
    "all_cols = train_keyword_features.columns.tolist()\n",
    "keyword_feature_cols = [x for x in all_cols if x not in ['class', 'name']]\n",
    "train_keyword_features = train_keyword_features[keyword_feature_cols]"
   ]
  },
  {
   "cell_type": "markdown",
   "id": "herbal-screen",
   "metadata": {},
   "source": [
    "##### 3.3 NER explored in EDA"
   ]
  },
  {
   "cell_type": "code",
   "execution_count": 19,
   "id": "angry-money",
   "metadata": {},
   "outputs": [],
   "source": [
    "nlp = spacy.load(\"en_core_web_sm\")"
   ]
  },
  {
   "cell_type": "code",
   "execution_count": 20,
   "id": "uniform-consortium",
   "metadata": {},
   "outputs": [],
   "source": [
    "def create_ner_features(df, NER_labels = None):\n",
    "    \n",
    "    df_features = df.copy()\n",
    "\n",
    "    df_features['NER_labels'] = df_features['name'].apply(lambda x: [i.label_ for i in nlp(x).ents])\n",
    "    df_features_NER = df_features[df_features['NER_labels'].apply(lambda x: len(x) !=0)][['NER_labels']]\n",
    "    \n",
    "    if NER_labels == None:\n",
    "        all_NER_labels = set(np.concatenate(df_features_NER['NER_labels'].tolist()))\n",
    "    else:\n",
    "        all_NER_labels = NER_labels\n",
    "        \n",
    "    for ner in all_NER_labels:\n",
    "        df_features_NER['ner_{}'.format(ner)] = df_features_NER['NER_labels'].apply(lambda x: ner in x )\n",
    "\n",
    "    df_features = df_features.drop('NER_labels', axis = 1)\n",
    "    df_features_NER = df_features_NER.drop('NER_labels', axis = 1)\n",
    "\n",
    "    df_features_NER.replace({True:1, False:0}, inplace = True)\n",
    "    df_features = df_features.merge(df_features_NER, left_index = True, right_index = True, how = 'left')\n",
    "    df_features.fillna(0, inplace = True)\n",
    "    \n",
    "    return df_features, all_NER_labels"
   ]
  },
  {
   "cell_type": "code",
   "execution_count": null,
   "id": "falling-hughes",
   "metadata": {},
   "outputs": [],
   "source": [
    "%%time\n",
    "train_ner_features, NER_labels_trained = create_ner_features(train)\n",
    "all_cols = train_ner_features.columns.tolist()\n",
    "ner_feature_cols = [x for x in all_cols if x not in ['class', 'name']]\n",
    "train_ner_features = train_ner_features[ner_feature_cols]"
   ]
  },
  {
   "cell_type": "markdown",
   "id": "pretty-seminar",
   "metadata": {},
   "source": [
    "#### 4. Prepare feature set"
   ]
  },
  {
   "cell_type": "code",
   "execution_count": null,
   "id": "deadly-steam",
   "metadata": {},
   "outputs": [],
   "source": [
    "train = train.merge(train_statistical_features,left_index = True, right_index = True, how = 'left')\\\n",
    ".merge(train_keyword_features,left_index = True, right_index = True, how = 'left')\\\n",
    ".merge(train_ner_features,left_index = True, right_index = True, how = 'left')"
   ]
  },
  {
   "cell_type": "code",
   "execution_count": null,
   "id": "aboriginal-spell",
   "metadata": {},
   "outputs": [],
   "source": [
    "X = train.drop(['name','class'], axis = 1)\n",
    "y = train['class']"
   ]
  },
  {
   "cell_type": "markdown",
   "id": "detected-maldives",
   "metadata": {},
   "source": [
    "#### 5. Train xgboost"
   ]
  },
  {
   "cell_type": "code",
   "execution_count": null,
   "id": "direct-allocation",
   "metadata": {},
   "outputs": [],
   "source": [
    "model = XGBClassifier()\n",
    "model.fit(X, y)"
   ]
  },
  {
   "cell_type": "markdown",
   "id": "formal-flashing",
   "metadata": {},
   "source": [
    "#### 6. Evaluate model"
   ]
  },
  {
   "cell_type": "code",
   "execution_count": null,
   "id": "tracked-laundry",
   "metadata": {},
   "outputs": [],
   "source": [
    "# test = test.sample(frac = 0.1)\n",
    "\n",
    "test_statistical_features = create_statistical_features(test)[statistical_feature_cols]\n",
    "test_keyword_features = create_keyword_features(test)[keyword_feature_cols]\n",
    "\n",
    "test_ner_features, _ = create_ner_features(test, NER_labels_trained)\n",
    "test_ner_features = test_ner_features[ner_feature_cols]"
   ]
  },
  {
   "cell_type": "code",
   "execution_count": null,
   "id": "emotional-egypt",
   "metadata": {},
   "outputs": [],
   "source": [
    "test = test.merge(test_statistical_features,left_index = True, right_index = True, how = 'left')\\\n",
    "            .merge(test_keyword_features,left_index = True, right_index = True, how = 'left')\\\n",
    "            .merge(test_ner_features,left_index = True, right_index = True, how = 'left')"
   ]
  },
  {
   "cell_type": "code",
   "execution_count": null,
   "id": "aging-aluminum",
   "metadata": {},
   "outputs": [],
   "source": [
    "test.fillna(0, inplace = True)"
   ]
  },
  {
   "cell_type": "code",
   "execution_count": null,
   "id": "continuous-marijuana",
   "metadata": {},
   "outputs": [],
   "source": [
    "X_test = test.drop(['name','class'], axis = 1)\n",
    "y_test = test['class']"
   ]
  },
  {
   "cell_type": "code",
   "execution_count": null,
   "id": "sustained-helmet",
   "metadata": {},
   "outputs": [],
   "source": [
    "y_pred = model.predict(X_test)"
   ]
  },
  {
   "cell_type": "code",
   "execution_count": null,
   "id": "accepted-concentrate",
   "metadata": {},
   "outputs": [],
   "source": [
    "accuracy = accuracy_score(y_test, y_pred)\n",
    "print(\"Accuracy: %.2f%%\" % (accuracy * 100.0))"
   ]
  },
  {
   "cell_type": "code",
   "execution_count": null,
   "id": "foreign-renewal",
   "metadata": {},
   "outputs": [],
   "source": []
  }
 ],
 "metadata": {
  "environment": {
   "name": "tf2-gpu.2-3.m65",
   "type": "gcloud",
   "uri": "gcr.io/deeplearning-platform-release/tf2-gpu.2-3:m65"
  },
  "kernelspec": {
   "display_name": "Python 3",
   "language": "python",
   "name": "python3"
  },
  "language_info": {
   "codemirror_mode": {
    "name": "ipython",
    "version": 3
   },
   "file_extension": ".py",
   "mimetype": "text/x-python",
   "name": "python",
   "nbconvert_exporter": "python",
   "pygments_lexer": "ipython3",
   "version": "3.7.10"
  }
 },
 "nbformat": 4,
 "nbformat_minor": 5
}
