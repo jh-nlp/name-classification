{
 "cells": [
  {
   "cell_type": "markdown",
   "id": "olympic-inspection",
   "metadata": {},
   "source": [
    "# 05 - model2 -- nn - scoring\n",
    "Note: this notebook was used to develop the script 'score_with_nn.py'"
   ]
  },
  {
   "cell_type": "code",
   "execution_count": 10,
   "id": "civic-sullivan",
   "metadata": {},
   "outputs": [],
   "source": [
    "import numpy as np\n",
    "import pandas as pd\n",
    "import tensorflow as tf\n",
    "import os\n",
    "from tensorflow import keras\n",
    "from sklearn.metrics import classification_report\n",
    "import pickle\n",
    "import time"
   ]
  },
  {
   "cell_type": "code",
   "execution_count": 11,
   "id": "directed-surname",
   "metadata": {},
   "outputs": [
    {
     "name": "stdout",
     "output_type": "stream",
     "text": [
      "WARNING:tensorflow:No training configuration found in save file, so the model was *not* compiled. Compile it manually.\n"
     ]
    }
   ],
   "source": [
    "model = tf.keras.models.load_model('/home/jupyter/sb-entity-classification/models/nn_embedding.h5')\n",
    "end_to_end_model =  tf.keras.models.load_model('/home/jupyter/sb-entity-classification/models/end_to_end_nn_embedding')"
   ]
  },
  {
   "cell_type": "code",
   "execution_count": 12,
   "id": "cosmetic-developer",
   "metadata": {},
   "outputs": [],
   "source": [
    "with open(\"/home/jupyter/sb-entity-classification/models/class_names.txt\", \"rb\") as fp:  \n",
    "    class_names = pickle.load(fp)\n",
    "\n",
    "def get_prediction(string_input):\n",
    "    probabilities = end_to_end_model.predict([[string_input]])\n",
    "    return class_names[np.argmax(probabilities[0])]"
   ]
  },
  {
   "cell_type": "code",
   "execution_count": 13,
   "id": "buried-fiction",
   "metadata": {},
   "outputs": [],
   "source": [
    "test = pd.read_pickle(\"/home/jupyter/sb-entity-classification/data/test_nn.pkl\")\n",
    "test = test.sample(5)\n",
    "X_test = test['name'].tolist()"
   ]
  },
  {
   "cell_type": "code",
   "execution_count": 17,
   "id": "intense-central",
   "metadata": {},
   "outputs": [
    {
     "name": "stdout",
     "output_type": "stream",
     "text": [
      "Avg time per prediction 0.13s\n",
      "Total time for all 5 forecasts: 0.00h\n",
      "                        precision    recall  f1-score   support\n",
      "\n",
      "                 Album      1.000     1.000     1.000         1\n",
      "               Athlete      1.000     1.000     1.000         2\n",
      "              Building      0.000     0.000     0.000         0\n",
      "EducationalInstitution      0.000     0.000     0.000         1\n",
      "               Village      1.000     1.000     1.000         1\n",
      "\n",
      "              accuracy                          0.800         5\n",
      "             macro avg      0.600     0.600     0.600         5\n",
      "          weighted avg      0.800     0.800     0.800         5\n",
      "\n"
     ]
    },
    {
     "name": "stderr",
     "output_type": "stream",
     "text": [
      "/opt/conda/lib/python3.7/site-packages/sklearn/metrics/_classification.py:1245: UndefinedMetricWarning: Precision and F-score are ill-defined and being set to 0.0 in labels with no predicted samples. Use `zero_division` parameter to control this behavior.\n",
      "  _warn_prf(average, modifier, msg_start, len(result))\n",
      "/opt/conda/lib/python3.7/site-packages/sklearn/metrics/_classification.py:1245: UndefinedMetricWarning: Recall and F-score are ill-defined and being set to 0.0 in labels with no true samples. Use `zero_division` parameter to control this behavior.\n",
      "  _warn_prf(average, modifier, msg_start, len(result))\n",
      "/opt/conda/lib/python3.7/site-packages/sklearn/metrics/_classification.py:1245: UndefinedMetricWarning: Precision and F-score are ill-defined and being set to 0.0 in labels with no predicted samples. Use `zero_division` parameter to control this behavior.\n",
      "  _warn_prf(average, modifier, msg_start, len(result))\n",
      "/opt/conda/lib/python3.7/site-packages/sklearn/metrics/_classification.py:1245: UndefinedMetricWarning: Recall and F-score are ill-defined and being set to 0.0 in labels with no true samples. Use `zero_division` parameter to control this behavior.\n",
      "  _warn_prf(average, modifier, msg_start, len(result))\n",
      "/opt/conda/lib/python3.7/site-packages/sklearn/metrics/_classification.py:1245: UndefinedMetricWarning: Precision and F-score are ill-defined and being set to 0.0 in labels with no predicted samples. Use `zero_division` parameter to control this behavior.\n",
      "  _warn_prf(average, modifier, msg_start, len(result))\n",
      "/opt/conda/lib/python3.7/site-packages/sklearn/metrics/_classification.py:1245: UndefinedMetricWarning: Recall and F-score are ill-defined and being set to 0.0 in labels with no true samples. Use `zero_division` parameter to control this behavior.\n",
      "  _warn_prf(average, modifier, msg_start, len(result))\n"
     ]
    }
   ],
   "source": [
    "start = time.time()\n",
    "preds = list(map(get_prediction,X_test))\n",
    "time_taken = time.time() - start\n",
    "avg_time_p = time_taken / len(X_test)\n",
    "print('Avg time per prediction {:.2f}s'.format(avg_time_p))\n",
    "print('Total time for all {} forecasts: {:.2f}h'.format(len(X_test), time_taken / 3600))\n",
    "\n",
    "print(classification_report(test['class_name'], preds, digits=3))"
   ]
  },
  {
   "cell_type": "code",
   "execution_count": 19,
   "id": "nominated-combine",
   "metadata": {},
   "outputs": [],
   "source": [
    "with open('/home/jupyter/sb-entity-classification/data/test_preds.pkl', \"wb\") as fp:   \n",
    "    pickle.dump(preds, fp)"
   ]
  },
  {
   "cell_type": "code",
   "execution_count": null,
   "id": "incorporate-formation",
   "metadata": {},
   "outputs": [],
   "source": []
  }
 ],
 "metadata": {
  "environment": {
   "name": "tf2-gpu.2-3.m65",
   "type": "gcloud",
   "uri": "gcr.io/deeplearning-platform-release/tf2-gpu.2-3:m65"
  },
  "kernelspec": {
   "display_name": "Python 3",
   "language": "python",
   "name": "python3"
  },
  "language_info": {
   "codemirror_mode": {
    "name": "ipython",
    "version": 3
   },
   "file_extension": ".py",
   "mimetype": "text/x-python",
   "name": "python",
   "nbconvert_exporter": "python",
   "pygments_lexer": "ipython3",
   "version": "3.7.10"
  }
 },
 "nbformat": 4,
 "nbformat_minor": 5
}
