{
 "cells": [
  {
   "cell_type": "code",
   "execution_count": 1,
   "id": "responsible-father",
   "metadata": {},
   "outputs": [],
   "source": [
    "import pandas as pd\n",
    "import seaborn as sns\n",
    "import string\n",
    "import warnings\n",
    "import matplotlib.pyplot as plt\n",
    "import pickle\n",
    "import numpy as np\n",
    "import spacy \n",
    "from spacy.lang.en import English\n",
    "import time\n",
    "from sklearn.model_selection import train_test_split\n",
    "from sklearn.metrics import accuracy_score\n",
    "from xgboost import XGBClassifier\n",
    "warnings.filterwarnings(\"ignore\")"
   ]
  },
  {
   "cell_type": "markdown",
   "id": "intimate-cabin",
   "metadata": {},
   "source": [
    "#### 1. Read in data"
   ]
  },
  {
   "cell_type": "code",
   "execution_count": 2,
   "id": "informational-acrobat",
   "metadata": {},
   "outputs": [],
   "source": [
    "df = pd.read_csv('/home/jupyter/sb-entity-classification/data/data.csv')\n",
    "df.columns = ['class','name']\n",
    "\n",
    "# classes_list = pd.read_csv('/home/jupyter/sb-entity-classification/data/classes.txt', header = None)\n",
    "# classes_list['class'] = classes_list.index\n",
    "# classes_list.columns = ['class_name', 'class']\n",
    "# classes_list['class'] = classes_list['class'] + 1  # based on information provided in the brief\n",
    "\n",
    "# df = df.merge(classes_list, on = 'class', how = 'left')"
   ]
  },
  {
   "cell_type": "markdown",
   "id": "selective-nigeria",
   "metadata": {},
   "source": [
    "####  2. Train, Validation, Test split"
   ]
  },
  {
   "cell_type": "code",
   "execution_count": 3,
   "id": "coated-third",
   "metadata": {},
   "outputs": [],
   "source": [
    "train, test = train_test_split(df, test_size = 0.2, random_state = 42, shuffle = True)"
   ]
  },
  {
   "cell_type": "code",
   "execution_count": 4,
   "id": "fuzzy-delivery",
   "metadata": {},
   "outputs": [
    {
     "data": {
      "text/plain": [
       "(439029, 2)"
      ]
     },
     "execution_count": 4,
     "metadata": {},
     "output_type": "execute_result"
    }
   ],
   "source": [
    "train.shape"
   ]
  },
  {
   "cell_type": "code",
   "execution_count": 5,
   "id": "indian-commercial",
   "metadata": {},
   "outputs": [],
   "source": [
    "train = train.sample(frac = 0.1)"
   ]
  },
  {
   "cell_type": "code",
   "execution_count": 6,
   "id": "dying-anxiety",
   "metadata": {},
   "outputs": [
    {
     "data": {
      "text/plain": [
       "(43903, 2)"
      ]
     },
     "execution_count": 6,
     "metadata": {},
     "output_type": "execute_result"
    }
   ],
   "source": [
    "train.shape"
   ]
  },
  {
   "cell_type": "code",
   "execution_count": 14,
   "id": "christian-atlas",
   "metadata": {},
   "outputs": [],
   "source": [
    "### save the split train, valid, and test set, for fair comparison between models\n",
    "# train.to_pickle('/home/jupyter/sb-entity-classification/data/train.pkl')\n",
    "# test.to_pickle('/home/jupyter/sb-entity-classification/data/test.pkl')"
   ]
  },
  {
   "cell_type": "markdown",
   "id": "piano-editor",
   "metadata": {},
   "source": [
    "#### 3. Create features"
   ]
  },
  {
   "cell_type": "markdown",
   "id": "enabling-compensation",
   "metadata": {},
   "source": [
    "##### 3.1. Simple statistical features already explored in EDA"
   ]
  },
  {
   "cell_type": "code",
   "execution_count": 7,
   "id": "contained-relationship",
   "metadata": {},
   "outputs": [],
   "source": [
    "def create_statistical_features(df):\n",
    "    df_features = df.copy()\n",
    "\n",
    "    df_features['num_chars'] = df['name'].str.len()\n",
    "    df_features['num_words'] = df_features['name'].apply(lambda x: len(x.split()))\n",
    "\n",
    "    count = lambda l1,l2: sum([1 for x in l1 if x in l2]) \n",
    "    df_features['num_punctuations']= df_features['name'].apply(lambda x: count(x,set(string.punctuation)))\n",
    "    df_features['num_ascii']= df_features['name'].apply(lambda x: count(x,set(string.ascii_letters)))\n",
    "    df_features['num_whitespace']= df_features['name'].apply(lambda x: count(x,set(string.whitespace)))\n",
    "    df_features['num_digits']= df_features['name'].apply(lambda x: count(x,set(string.digits)))\n",
    "    df_features['num_nonascii'] = df_features['num_chars']-df_features['num_punctuations']-df_features['num_digits']-df_features['num_ascii']- df_features['num_whitespace']\n",
    "    df_features = df_features.drop(['num_whitespace', 'num_ascii'], axis = 1)\n",
    "    \n",
    "    return df_features"
   ]
  },
  {
   "cell_type": "code",
   "execution_count": 8,
   "id": "becoming-teddy",
   "metadata": {},
   "outputs": [],
   "source": [
    "train_statistical_features = create_statistical_features(train)\n",
    "all_cols = train_statistical_features.columns.tolist()\n",
    "statistical_feature_cols = [x for x in all_cols if x not in ['class', 'name']]\n",
    "train_statistical_features = train_statistical_features[statistical_feature_cols]"
   ]
  },
  {
   "cell_type": "markdown",
   "id": "charitable-thinking",
   "metadata": {},
   "source": [
    "##### 3.2 keyword in brackets also explored in EDA"
   ]
  },
  {
   "cell_type": "code",
   "execution_count": 8,
   "id": "dutch-exception",
   "metadata": {},
   "outputs": [],
   "source": [
    "# based on common sense -\n",
    "hand_code_keywords = ['company']+['musician', 'singer', 'writer', 'artist', 'author']\\\n",
    "+ ['footballer', 'cricketer', 'football', 'baseball', 'rugby', 'hockey'] +\\\n",
    "['politician'] +['ship'] + ['crater', 'river'] + ['horse'] +['plant']\\\n",
    "+['album', 'EP', 'soundtrack'] +['film'] +['novel', 'magazine', 'book', 'journal', 'play', 'comics', 'newspaper', 'manga']"
   ]
  },
  {
   "cell_type": "code",
   "execution_count": 9,
   "id": "mexican-nursery",
   "metadata": {},
   "outputs": [],
   "source": [
    "def create_keyword_features(df):\n",
    "    df_features = df.copy()\n",
    "    df_features['within_brackets'] = df['name'].str.extract('.*\\((.*)\\).*')\n",
    "\n",
    "    df_features_with_brackets = df_features[['within_brackets']].dropna(axis = 0)\n",
    "    for keyword in hand_code_keywords:\n",
    "        df_features_with_brackets['has_{}'.format(keyword)] = df_features_with_brackets['within_brackets']\\\n",
    "                                                                .apply(lambda x: keyword in x.lower() )\n",
    "\n",
    "    df_features = df_features.drop('within_brackets', axis = 1)\n",
    "    df_features_with_brackets = df_features_with_brackets.drop('within_brackets', axis = 1)\n",
    "\n",
    "    df_features_with_brackets.replace({True:1, False:0}, inplace = True)\n",
    "    df_features = df_features.merge(df_features_with_brackets, left_index = True, right_index = True, how = 'left')\n",
    "    df_features.fillna(0, inplace = True)\n",
    "    \n",
    "    return df_features"
   ]
  },
  {
   "cell_type": "code",
   "execution_count": 10,
   "id": "moral-treat",
   "metadata": {},
   "outputs": [],
   "source": [
    "train_keyword_features = create_keyword_features(train)\n",
    "all_cols = train_keyword_features.columns.tolist()\n",
    "keyword_feature_cols = [x for x in all_cols if x not in ['class', 'name']]\n",
    "train_keyword_features = train_keyword_features[keyword_feature_cols]"
   ]
  },
  {
   "cell_type": "markdown",
   "id": "different-pressure",
   "metadata": {},
   "source": [
    "##### 3.3 NER explored in EDA"
   ]
  },
  {
   "cell_type": "code",
   "execution_count": 7,
   "id": "electronic-aerospace",
   "metadata": {},
   "outputs": [],
   "source": [
    "nlp = spacy.load(\"en_core_web_sm\")"
   ]
  },
  {
   "cell_type": "code",
   "execution_count": 8,
   "id": "analyzed-pixel",
   "metadata": {},
   "outputs": [],
   "source": [
    "def create_ner_features(df, NER_labels = None):\n",
    "    \n",
    "    df_features = df.copy()\n",
    "\n",
    "    df_features['NER_labels'] = df_features['name'].apply(lambda x: [i.label_ for i in nlp(x).ents])\n",
    "    df_features_NER = df_features[df_features['NER_labels'].apply(lambda x: len(x) !=0)][['NER_labels']]\n",
    "    \n",
    "    if NER_labels == None:\n",
    "        all_NER_labels = set(np.concatenate(df_features_NER['NER_labels'].tolist()))\n",
    "    else:\n",
    "        all_NER_labels = NER_labels\n",
    "        \n",
    "    for ner in all_NER_labels:\n",
    "        df_features_NER['ner_{}'.format(ner)] = df_features_NER['NER_labels'].apply(lambda x: ner in x )\n",
    "\n",
    "    df_features = df_features.drop('NER_labels', axis = 1)\n",
    "    df_features_NER = df_features_NER.drop('NER_labels', axis = 1)\n",
    "\n",
    "    df_features_NER.replace({True:1, False:0}, inplace = True)\n",
    "    df_features = df_features.merge(df_features_NER, left_index = True, right_index = True, how = 'left')\n",
    "    df_features.fillna(0, inplace = True)\n",
    "    \n",
    "    return df_features, all_NER_labels"
   ]
  },
  {
   "cell_type": "code",
   "execution_count": 9,
   "id": "available-brighton",
   "metadata": {},
   "outputs": [
    {
     "name": "stdout",
     "output_type": "stream",
     "text": [
      "CPU times: user 5min 1s, sys: 175 ms, total: 5min 1s\n",
      "Wall time: 5min 4s\n"
     ]
    }
   ],
   "source": [
    "%%time\n",
    "train_ner_features, NER_labels_trained = create_ner_features(train)\n",
    "all_cols = train_ner_features.columns.tolist()\n",
    "ner_feature_cols = [x for x in all_cols if x not in ['class', 'name']]\n",
    "train_ner_features = train_ner_features[ner_feature_cols]"
   ]
  },
  {
   "cell_type": "markdown",
   "id": "southwest-cooper",
   "metadata": {},
   "source": [
    "#### 4. Prepare feature set"
   ]
  },
  {
   "cell_type": "code",
   "execution_count": 10,
   "id": "african-bennett",
   "metadata": {},
   "outputs": [],
   "source": [
    "train = train.merge(train_ner_features,left_index = True, right_index = True, how = 'left')\n",
    "#     train_statistical_features,left_index = True, right_index = True, how = 'left')\\\n",
    "# merge(train_keyword_features,left_index = True, right_index = True, how = 'left')\n",
    "    \n",
    "# .merge(train_ner_features,left_index = True, right_index = True, how = 'left')"
   ]
  },
  {
   "cell_type": "code",
   "execution_count": 11,
   "id": "plastic-enzyme",
   "metadata": {},
   "outputs": [],
   "source": [
    "X = train.drop(['name','class'], axis = 1)\n",
    "y = train['class']"
   ]
  },
  {
   "cell_type": "markdown",
   "id": "ongoing-somewhere",
   "metadata": {},
   "source": [
    "#### 5. Train xgboost"
   ]
  },
  {
   "cell_type": "code",
   "execution_count": 12,
   "id": "neither-mandate",
   "metadata": {},
   "outputs": [
    {
     "name": "stdout",
     "output_type": "stream",
     "text": [
      "[04:09:08] WARNING: ../src/learner.cc:1061: Starting in XGBoost 1.3.0, the default evaluation metric used with the objective 'multi:softprob' was changed from 'merror' to 'mlogloss'. Explicitly set eval_metric if you'd like to restore the old behavior.\n"
     ]
    },
    {
     "data": {
      "text/plain": [
       "XGBClassifier(base_score=0.5, booster='gbtree', colsample_bylevel=1,\n",
       "              colsample_bynode=1, colsample_bytree=1, gamma=0, gpu_id=-1,\n",
       "              importance_type='gain', interaction_constraints='',\n",
       "              learning_rate=0.300000012, max_delta_step=0, max_depth=6,\n",
       "              min_child_weight=1, missing=nan, monotone_constraints='()',\n",
       "              n_estimators=100, n_jobs=3, nthread=3, num_parallel_tree=1,\n",
       "              objective='multi:softprob', random_state=0, reg_alpha=0,\n",
       "              reg_lambda=1, scale_pos_weight=None, subsample=1,\n",
       "              tree_method='exact', validate_parameters=1, verbosity=None)"
      ]
     },
     "execution_count": 12,
     "metadata": {},
     "output_type": "execute_result"
    }
   ],
   "source": [
    "model = XGBClassifier(nthread = 3)\n",
    "model.fit(X, y)"
   ]
  },
  {
   "cell_type": "markdown",
   "id": "incorporated-lebanon",
   "metadata": {},
   "source": [
    "#### 6. Evaluate model"
   ]
  },
  {
   "cell_type": "code",
   "execution_count": 13,
   "id": "terminal-horizontal",
   "metadata": {},
   "outputs": [],
   "source": [
    "test = test.sample(frac = 0.1)\n",
    "\n",
    "# test_statistical_features = create_statistical_features(test)[statistical_feature_cols]\n",
    "# test_keyword_features = create_keyword_features(test)[keyword_feature_cols]\n",
    "\n",
    "test_ner_features, _ = create_ner_features(test, NER_labels_trained)\n",
    "test_ner_features = test_ner_features[ner_feature_cols]"
   ]
  },
  {
   "cell_type": "code",
   "execution_count": 14,
   "id": "sized-austria",
   "metadata": {},
   "outputs": [],
   "source": [
    "# test = test.merge(test_statistical_features,left_index = True, right_index = True, how = 'left')\\\n",
    "#             .merge(test_keyword_features,left_index = True, right_index = True, how = 'left')\\\n",
    "#             .merge(test_ner_features,left_index = True, right_index = True, how = 'left')\n",
    "\n",
    "test = test.merge(test_ner_features,left_index = True, right_index = True, how = 'left')"
   ]
  },
  {
   "cell_type": "code",
   "execution_count": 15,
   "id": "subtle-murder",
   "metadata": {},
   "outputs": [],
   "source": [
    "test.fillna(0, inplace = True)"
   ]
  },
  {
   "cell_type": "code",
   "execution_count": 16,
   "id": "radio-parallel",
   "metadata": {},
   "outputs": [],
   "source": [
    "X_test = test.drop(['name','class'], axis = 1)\n",
    "y_test = test['class']"
   ]
  },
  {
   "cell_type": "code",
   "execution_count": 17,
   "id": "indian-marks",
   "metadata": {},
   "outputs": [
    {
     "data": {
      "text/html": [
       "<div>\n",
       "<style scoped>\n",
       "    .dataframe tbody tr th:only-of-type {\n",
       "        vertical-align: middle;\n",
       "    }\n",
       "\n",
       "    .dataframe tbody tr th {\n",
       "        vertical-align: top;\n",
       "    }\n",
       "\n",
       "    .dataframe thead th {\n",
       "        text-align: right;\n",
       "    }\n",
       "</style>\n",
       "<table border=\"1\" class=\"dataframe\">\n",
       "  <thead>\n",
       "    <tr style=\"text-align: right;\">\n",
       "      <th></th>\n",
       "      <th>ner_WORK_OF_ART</th>\n",
       "      <th>ner_QUANTITY</th>\n",
       "      <th>ner_EVENT</th>\n",
       "      <th>ner_ORG</th>\n",
       "      <th>ner_CARDINAL</th>\n",
       "      <th>ner_FAC</th>\n",
       "      <th>ner_NORP</th>\n",
       "      <th>ner_ORDINAL</th>\n",
       "      <th>ner_LANGUAGE</th>\n",
       "      <th>ner_PERSON</th>\n",
       "      <th>ner_PRODUCT</th>\n",
       "      <th>ner_MONEY</th>\n",
       "      <th>ner_TIME</th>\n",
       "      <th>ner_LOC</th>\n",
       "      <th>ner_LAW</th>\n",
       "      <th>ner_DATE</th>\n",
       "      <th>ner_GPE</th>\n",
       "    </tr>\n",
       "  </thead>\n",
       "  <tbody>\n",
       "    <tr>\n",
       "      <th>285419</th>\n",
       "      <td>0.0</td>\n",
       "      <td>0.0</td>\n",
       "      <td>0.0</td>\n",
       "      <td>0.0</td>\n",
       "      <td>0.0</td>\n",
       "      <td>0.0</td>\n",
       "      <td>0.0</td>\n",
       "      <td>0.0</td>\n",
       "      <td>0.0</td>\n",
       "      <td>0.0</td>\n",
       "      <td>0.0</td>\n",
       "      <td>0.0</td>\n",
       "      <td>0.0</td>\n",
       "      <td>0.0</td>\n",
       "      <td>0.0</td>\n",
       "      <td>0.0</td>\n",
       "      <td>0.0</td>\n",
       "    </tr>\n",
       "    <tr>\n",
       "      <th>99980</th>\n",
       "      <td>0.0</td>\n",
       "      <td>0.0</td>\n",
       "      <td>0.0</td>\n",
       "      <td>0.0</td>\n",
       "      <td>0.0</td>\n",
       "      <td>0.0</td>\n",
       "      <td>0.0</td>\n",
       "      <td>0.0</td>\n",
       "      <td>0.0</td>\n",
       "      <td>1.0</td>\n",
       "      <td>0.0</td>\n",
       "      <td>0.0</td>\n",
       "      <td>0.0</td>\n",
       "      <td>0.0</td>\n",
       "      <td>0.0</td>\n",
       "      <td>0.0</td>\n",
       "      <td>0.0</td>\n",
       "    </tr>\n",
       "    <tr>\n",
       "      <th>516713</th>\n",
       "      <td>0.0</td>\n",
       "      <td>0.0</td>\n",
       "      <td>0.0</td>\n",
       "      <td>0.0</td>\n",
       "      <td>0.0</td>\n",
       "      <td>0.0</td>\n",
       "      <td>0.0</td>\n",
       "      <td>0.0</td>\n",
       "      <td>0.0</td>\n",
       "      <td>1.0</td>\n",
       "      <td>0.0</td>\n",
       "      <td>0.0</td>\n",
       "      <td>0.0</td>\n",
       "      <td>0.0</td>\n",
       "      <td>0.0</td>\n",
       "      <td>0.0</td>\n",
       "      <td>0.0</td>\n",
       "    </tr>\n",
       "    <tr>\n",
       "      <th>329433</th>\n",
       "      <td>0.0</td>\n",
       "      <td>0.0</td>\n",
       "      <td>0.0</td>\n",
       "      <td>0.0</td>\n",
       "      <td>0.0</td>\n",
       "      <td>0.0</td>\n",
       "      <td>0.0</td>\n",
       "      <td>0.0</td>\n",
       "      <td>0.0</td>\n",
       "      <td>0.0</td>\n",
       "      <td>0.0</td>\n",
       "      <td>0.0</td>\n",
       "      <td>0.0</td>\n",
       "      <td>0.0</td>\n",
       "      <td>0.0</td>\n",
       "      <td>0.0</td>\n",
       "      <td>0.0</td>\n",
       "    </tr>\n",
       "    <tr>\n",
       "      <th>483564</th>\n",
       "      <td>0.0</td>\n",
       "      <td>0.0</td>\n",
       "      <td>0.0</td>\n",
       "      <td>0.0</td>\n",
       "      <td>0.0</td>\n",
       "      <td>0.0</td>\n",
       "      <td>0.0</td>\n",
       "      <td>0.0</td>\n",
       "      <td>0.0</td>\n",
       "      <td>1.0</td>\n",
       "      <td>0.0</td>\n",
       "      <td>0.0</td>\n",
       "      <td>0.0</td>\n",
       "      <td>0.0</td>\n",
       "      <td>0.0</td>\n",
       "      <td>1.0</td>\n",
       "      <td>0.0</td>\n",
       "    </tr>\n",
       "    <tr>\n",
       "      <th>...</th>\n",
       "      <td>...</td>\n",
       "      <td>...</td>\n",
       "      <td>...</td>\n",
       "      <td>...</td>\n",
       "      <td>...</td>\n",
       "      <td>...</td>\n",
       "      <td>...</td>\n",
       "      <td>...</td>\n",
       "      <td>...</td>\n",
       "      <td>...</td>\n",
       "      <td>...</td>\n",
       "      <td>...</td>\n",
       "      <td>...</td>\n",
       "      <td>...</td>\n",
       "      <td>...</td>\n",
       "      <td>...</td>\n",
       "      <td>...</td>\n",
       "    </tr>\n",
       "    <tr>\n",
       "      <th>384909</th>\n",
       "      <td>0.0</td>\n",
       "      <td>0.0</td>\n",
       "      <td>0.0</td>\n",
       "      <td>0.0</td>\n",
       "      <td>0.0</td>\n",
       "      <td>0.0</td>\n",
       "      <td>0.0</td>\n",
       "      <td>0.0</td>\n",
       "      <td>0.0</td>\n",
       "      <td>0.0</td>\n",
       "      <td>0.0</td>\n",
       "      <td>0.0</td>\n",
       "      <td>0.0</td>\n",
       "      <td>0.0</td>\n",
       "      <td>0.0</td>\n",
       "      <td>0.0</td>\n",
       "      <td>0.0</td>\n",
       "    </tr>\n",
       "    <tr>\n",
       "      <th>159297</th>\n",
       "      <td>0.0</td>\n",
       "      <td>0.0</td>\n",
       "      <td>0.0</td>\n",
       "      <td>0.0</td>\n",
       "      <td>0.0</td>\n",
       "      <td>0.0</td>\n",
       "      <td>0.0</td>\n",
       "      <td>0.0</td>\n",
       "      <td>0.0</td>\n",
       "      <td>1.0</td>\n",
       "      <td>0.0</td>\n",
       "      <td>0.0</td>\n",
       "      <td>0.0</td>\n",
       "      <td>0.0</td>\n",
       "      <td>0.0</td>\n",
       "      <td>0.0</td>\n",
       "      <td>0.0</td>\n",
       "    </tr>\n",
       "    <tr>\n",
       "      <th>519958</th>\n",
       "      <td>0.0</td>\n",
       "      <td>0.0</td>\n",
       "      <td>0.0</td>\n",
       "      <td>0.0</td>\n",
       "      <td>0.0</td>\n",
       "      <td>0.0</td>\n",
       "      <td>0.0</td>\n",
       "      <td>0.0</td>\n",
       "      <td>0.0</td>\n",
       "      <td>0.0</td>\n",
       "      <td>0.0</td>\n",
       "      <td>0.0</td>\n",
       "      <td>0.0</td>\n",
       "      <td>0.0</td>\n",
       "      <td>0.0</td>\n",
       "      <td>0.0</td>\n",
       "      <td>0.0</td>\n",
       "    </tr>\n",
       "    <tr>\n",
       "      <th>96865</th>\n",
       "      <td>0.0</td>\n",
       "      <td>0.0</td>\n",
       "      <td>0.0</td>\n",
       "      <td>0.0</td>\n",
       "      <td>0.0</td>\n",
       "      <td>0.0</td>\n",
       "      <td>0.0</td>\n",
       "      <td>0.0</td>\n",
       "      <td>0.0</td>\n",
       "      <td>1.0</td>\n",
       "      <td>0.0</td>\n",
       "      <td>0.0</td>\n",
       "      <td>0.0</td>\n",
       "      <td>0.0</td>\n",
       "      <td>0.0</td>\n",
       "      <td>0.0</td>\n",
       "      <td>0.0</td>\n",
       "    </tr>\n",
       "    <tr>\n",
       "      <th>534588</th>\n",
       "      <td>0.0</td>\n",
       "      <td>0.0</td>\n",
       "      <td>0.0</td>\n",
       "      <td>0.0</td>\n",
       "      <td>0.0</td>\n",
       "      <td>0.0</td>\n",
       "      <td>0.0</td>\n",
       "      <td>0.0</td>\n",
       "      <td>0.0</td>\n",
       "      <td>1.0</td>\n",
       "      <td>0.0</td>\n",
       "      <td>0.0</td>\n",
       "      <td>0.0</td>\n",
       "      <td>0.0</td>\n",
       "      <td>0.0</td>\n",
       "      <td>0.0</td>\n",
       "      <td>0.0</td>\n",
       "    </tr>\n",
       "  </tbody>\n",
       "</table>\n",
       "<p>10976 rows × 17 columns</p>\n",
       "</div>"
      ],
      "text/plain": [
       "        ner_WORK_OF_ART  ner_QUANTITY  ner_EVENT  ner_ORG  ner_CARDINAL  \\\n",
       "285419              0.0           0.0        0.0      0.0           0.0   \n",
       "99980               0.0           0.0        0.0      0.0           0.0   \n",
       "516713              0.0           0.0        0.0      0.0           0.0   \n",
       "329433              0.0           0.0        0.0      0.0           0.0   \n",
       "483564              0.0           0.0        0.0      0.0           0.0   \n",
       "...                 ...           ...        ...      ...           ...   \n",
       "384909              0.0           0.0        0.0      0.0           0.0   \n",
       "159297              0.0           0.0        0.0      0.0           0.0   \n",
       "519958              0.0           0.0        0.0      0.0           0.0   \n",
       "96865               0.0           0.0        0.0      0.0           0.0   \n",
       "534588              0.0           0.0        0.0      0.0           0.0   \n",
       "\n",
       "        ner_FAC  ner_NORP  ner_ORDINAL  ner_LANGUAGE  ner_PERSON  ner_PRODUCT  \\\n",
       "285419      0.0       0.0          0.0           0.0         0.0          0.0   \n",
       "99980       0.0       0.0          0.0           0.0         1.0          0.0   \n",
       "516713      0.0       0.0          0.0           0.0         1.0          0.0   \n",
       "329433      0.0       0.0          0.0           0.0         0.0          0.0   \n",
       "483564      0.0       0.0          0.0           0.0         1.0          0.0   \n",
       "...         ...       ...          ...           ...         ...          ...   \n",
       "384909      0.0       0.0          0.0           0.0         0.0          0.0   \n",
       "159297      0.0       0.0          0.0           0.0         1.0          0.0   \n",
       "519958      0.0       0.0          0.0           0.0         0.0          0.0   \n",
       "96865       0.0       0.0          0.0           0.0         1.0          0.0   \n",
       "534588      0.0       0.0          0.0           0.0         1.0          0.0   \n",
       "\n",
       "        ner_MONEY  ner_TIME  ner_LOC  ner_LAW  ner_DATE  ner_GPE  \n",
       "285419        0.0       0.0      0.0      0.0       0.0      0.0  \n",
       "99980         0.0       0.0      0.0      0.0       0.0      0.0  \n",
       "516713        0.0       0.0      0.0      0.0       0.0      0.0  \n",
       "329433        0.0       0.0      0.0      0.0       0.0      0.0  \n",
       "483564        0.0       0.0      0.0      0.0       1.0      0.0  \n",
       "...           ...       ...      ...      ...       ...      ...  \n",
       "384909        0.0       0.0      0.0      0.0       0.0      0.0  \n",
       "159297        0.0       0.0      0.0      0.0       0.0      0.0  \n",
       "519958        0.0       0.0      0.0      0.0       0.0      0.0  \n",
       "96865         0.0       0.0      0.0      0.0       0.0      0.0  \n",
       "534588        0.0       0.0      0.0      0.0       0.0      0.0  \n",
       "\n",
       "[10976 rows x 17 columns]"
      ]
     },
     "execution_count": 17,
     "metadata": {},
     "output_type": "execute_result"
    }
   ],
   "source": [
    "X_test"
   ]
  },
  {
   "cell_type": "code",
   "execution_count": 18,
   "id": "relative-finance",
   "metadata": {},
   "outputs": [],
   "source": [
    "y_pred = model.predict(X_test)"
   ]
  },
  {
   "cell_type": "code",
   "execution_count": 19,
   "id": "excessive-memory",
   "metadata": {},
   "outputs": [
    {
     "name": "stdout",
     "output_type": "stream",
     "text": [
      "Accuracy: 22.18%\n"
     ]
    }
   ],
   "source": [
    "accuracy = accuracy_score(y_test, y_pred)\n",
    "print(\"Accuracy: %.2f%%\" % (accuracy * 100.0))"
   ]
  },
  {
   "cell_type": "code",
   "execution_count": 20,
   "id": "golden-sleeve",
   "metadata": {},
   "outputs": [],
   "source": [
    "from sklearn.metrics import classification_report"
   ]
  },
  {
   "cell_type": "code",
   "execution_count": 21,
   "id": "requested-round",
   "metadata": {},
   "outputs": [
    {
     "name": "stdout",
     "output_type": "stream",
     "text": [
      "              precision    recall  f1-score   support\n",
      "\n",
      "           1      0.000     0.000     0.000       764\n",
      "           2      0.265     0.724     0.388       778\n",
      "           3      0.000     0.000     0.000       847\n",
      "           4      0.246     0.017     0.032       814\n",
      "           5      0.197     0.849     0.320       840\n",
      "           6      0.594     0.132     0.217       808\n",
      "           7      0.393     0.072     0.122       790\n",
      "           8      0.772     0.238     0.364       768\n",
      "           9      0.000     0.000     0.000       791\n",
      "          10      0.243     0.031     0.055       806\n",
      "          11      0.144     0.747     0.242       799\n",
      "          12      0.376     0.073     0.122       771\n",
      "          13      0.548     0.145     0.229       821\n",
      "          14      0.000     0.000     0.000       579\n",
      "\n",
      "    accuracy                          0.222     10976\n",
      "   macro avg      0.270     0.216     0.149     10976\n",
      "weighted avg      0.274     0.222     0.152     10976\n",
      "\n"
     ]
    }
   ],
   "source": [
    "print(classification_report(y_test, y_pred, digits=3))"
   ]
  },
  {
   "cell_type": "code",
   "execution_count": 48,
   "id": "fitted-extent",
   "metadata": {},
   "outputs": [
    {
     "data": {
      "text/html": [
       "<div>\n",
       "<style scoped>\n",
       "    .dataframe tbody tr th:only-of-type {\n",
       "        vertical-align: middle;\n",
       "    }\n",
       "\n",
       "    .dataframe tbody tr th {\n",
       "        vertical-align: top;\n",
       "    }\n",
       "\n",
       "    .dataframe thead th {\n",
       "        text-align: right;\n",
       "    }\n",
       "</style>\n",
       "<table border=\"1\" class=\"dataframe\">\n",
       "  <thead>\n",
       "    <tr style=\"text-align: right;\">\n",
       "      <th></th>\n",
       "      <th>class_name</th>\n",
       "      <th>class</th>\n",
       "    </tr>\n",
       "  </thead>\n",
       "  <tbody>\n",
       "    <tr>\n",
       "      <th>0</th>\n",
       "      <td>Company</td>\n",
       "      <td>1</td>\n",
       "    </tr>\n",
       "    <tr>\n",
       "      <th>1</th>\n",
       "      <td>EducationalInstitution</td>\n",
       "      <td>2</td>\n",
       "    </tr>\n",
       "    <tr>\n",
       "      <th>2</th>\n",
       "      <td>Artist</td>\n",
       "      <td>3</td>\n",
       "    </tr>\n",
       "    <tr>\n",
       "      <th>3</th>\n",
       "      <td>Athlete</td>\n",
       "      <td>4</td>\n",
       "    </tr>\n",
       "    <tr>\n",
       "      <th>4</th>\n",
       "      <td>OfficeHolder</td>\n",
       "      <td>5</td>\n",
       "    </tr>\n",
       "    <tr>\n",
       "      <th>5</th>\n",
       "      <td>MeanOfTransportation</td>\n",
       "      <td>6</td>\n",
       "    </tr>\n",
       "    <tr>\n",
       "      <th>6</th>\n",
       "      <td>Building</td>\n",
       "      <td>7</td>\n",
       "    </tr>\n",
       "    <tr>\n",
       "      <th>7</th>\n",
       "      <td>NaturalPlace</td>\n",
       "      <td>8</td>\n",
       "    </tr>\n",
       "    <tr>\n",
       "      <th>8</th>\n",
       "      <td>Village</td>\n",
       "      <td>9</td>\n",
       "    </tr>\n",
       "    <tr>\n",
       "      <th>9</th>\n",
       "      <td>Animal</td>\n",
       "      <td>10</td>\n",
       "    </tr>\n",
       "    <tr>\n",
       "      <th>10</th>\n",
       "      <td>Plant</td>\n",
       "      <td>11</td>\n",
       "    </tr>\n",
       "    <tr>\n",
       "      <th>11</th>\n",
       "      <td>Album</td>\n",
       "      <td>12</td>\n",
       "    </tr>\n",
       "    <tr>\n",
       "      <th>12</th>\n",
       "      <td>Film</td>\n",
       "      <td>13</td>\n",
       "    </tr>\n",
       "    <tr>\n",
       "      <th>13</th>\n",
       "      <td>WrittenWork</td>\n",
       "      <td>14</td>\n",
       "    </tr>\n",
       "  </tbody>\n",
       "</table>\n",
       "</div>"
      ],
      "text/plain": [
       "                class_name  class\n",
       "0                  Company      1\n",
       "1   EducationalInstitution      2\n",
       "2                   Artist      3\n",
       "3                  Athlete      4\n",
       "4             OfficeHolder      5\n",
       "5     MeanOfTransportation      6\n",
       "6                 Building      7\n",
       "7             NaturalPlace      8\n",
       "8                  Village      9\n",
       "9                   Animal     10\n",
       "10                   Plant     11\n",
       "11                   Album     12\n",
       "12                    Film     13\n",
       "13             WrittenWork     14"
      ]
     },
     "execution_count": 48,
     "metadata": {},
     "output_type": "execute_result"
    }
   ],
   "source": [
    "classes_list = pd.read_csv('/home/jupyter/sb-entity-classification/data/classes.txt', header = None)\n",
    "classes_list['class'] = classes_list.index\n",
    "classes_list.columns = ['class_name', 'class']\n",
    "classes_list['class'] = classes_list['class'] + 1  # based on information provided in the brief\n",
    "classes_list"
   ]
  },
  {
   "cell_type": "code",
   "execution_count": null,
   "id": "former-vehicle",
   "metadata": {},
   "outputs": [],
   "source": []
  }
 ],
 "metadata": {
  "environment": {
   "name": "tf2-gpu.2-3.m65",
   "type": "gcloud",
   "uri": "gcr.io/deeplearning-platform-release/tf2-gpu.2-3:m65"
  },
  "kernelspec": {
   "display_name": "Python 3",
   "language": "python",
   "name": "python3"
  },
  "language_info": {
   "codemirror_mode": {
    "name": "ipython",
    "version": 3
   },
   "file_extension": ".py",
   "mimetype": "text/x-python",
   "name": "python",
   "nbconvert_exporter": "python",
   "pygments_lexer": "ipython3",
   "version": "3.7.10"
  }
 },
 "nbformat": 4,
 "nbformat_minor": 5
}
