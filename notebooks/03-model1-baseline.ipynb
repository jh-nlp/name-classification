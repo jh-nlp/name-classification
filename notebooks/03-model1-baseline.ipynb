{
 "cells": [
  {
   "cell_type": "markdown",
   "id": "racial-third",
   "metadata": {},
   "source": [
    "# 03 - model1 - baseline"
   ]
  },
  {
   "cell_type": "code",
   "execution_count": 137,
   "id": "unlimited-johnson",
   "metadata": {},
   "outputs": [],
   "source": [
    "import pandas as pd\n",
    "import seaborn as sns\n",
    "import string\n",
    "import warnings\n",
    "import matplotlib.pyplot as plt\n",
    "import pickle\n",
    "import numpy as np\n",
    "import nltk\n",
    "import spacy \n",
    "from spacy.lang.en import English\n",
    "import time\n",
    "from sklearn.model_selection import train_test_split\n",
    "from sklearn.metrics import accuracy_score, classification_report\n",
    "from xgboost import XGBClassifier\n",
    "warnings.filterwarnings(\"ignore\")"
   ]
  },
  {
   "cell_type": "markdown",
   "id": "boolean-diploma",
   "metadata": {},
   "source": [
    "#### 1. Read in data"
   ]
  },
  {
   "cell_type": "code",
   "execution_count": 2,
   "id": "african-experiment",
   "metadata": {},
   "outputs": [],
   "source": [
    "df = pd.read_csv('/home/jupyter/sb-entity-classification/data/data.csv')\n",
    "df.columns = ['class','name']"
   ]
  },
  {
   "cell_type": "markdown",
   "id": "limited-socket",
   "metadata": {},
   "source": [
    "####  2. Train, Validation, Test split"
   ]
  },
  {
   "cell_type": "code",
   "execution_count": 3,
   "id": "quantitative-burns",
   "metadata": {},
   "outputs": [],
   "source": [
    "train, test = train_test_split(df, test_size = 0.2, random_state = 42, shuffle = True)"
   ]
  },
  {
   "cell_type": "markdown",
   "id": "offshore-peeing",
   "metadata": {},
   "source": [
    "#### 3. Create features"
   ]
  },
  {
   "cell_type": "markdown",
   "id": "remarkable-explanation",
   "metadata": {},
   "source": [
    "##### 3.1. Simple statistical features already explored in EDA"
   ]
  },
  {
   "cell_type": "code",
   "execution_count": 4,
   "id": "funky-saturn",
   "metadata": {},
   "outputs": [],
   "source": [
    "def create_statistical_features(df):\n",
    "    df_features = df.copy()\n",
    "\n",
    "    df_features['num_chars'] = df['name'].str.len()\n",
    "    df_features['num_words'] = df_features['name'].apply(lambda x: len(x.split()))\n",
    "\n",
    "    count = lambda l1,l2: sum([1 for x in l1 if x in l2]) \n",
    "    df_features['num_punctuations']= df_features['name'].apply(lambda x: count(x,set(string.punctuation)))\n",
    "    df_features['num_ascii']= df_features['name'].apply(lambda x: count(x,set(string.ascii_letters)))\n",
    "    df_features['num_whitespace']= df_features['name'].apply(lambda x: count(x,set(string.whitespace)))\n",
    "    df_features['num_digits']= df_features['name'].apply(lambda x: count(x,set(string.digits)))\n",
    "    df_features['num_nonascii'] = df_features['num_chars']-df_features['num_punctuations']-df_features['num_digits']-df_features['num_ascii']- df_features['num_whitespace']\n",
    "    df_features = df_features.drop(['num_whitespace', 'num_ascii'], axis = 1)\n",
    "    \n",
    "    return df_features"
   ]
  },
  {
   "cell_type": "code",
   "execution_count": 5,
   "id": "banned-soldier",
   "metadata": {},
   "outputs": [],
   "source": [
    "train_statistical_features = create_statistical_features(train)\n",
    "all_cols = train_statistical_features.columns.tolist()\n",
    "statistical_feature_cols = [x for x in all_cols if x not in ['class', 'name']]\n",
    "train_statistical_features = train_statistical_features[statistical_feature_cols]"
   ]
  },
  {
   "cell_type": "markdown",
   "id": "united-effect",
   "metadata": {},
   "source": [
    "##### 3.2 keyword in brackets also explored in EDA"
   ]
  },
  {
   "cell_type": "code",
   "execution_count": 6,
   "id": "accredited-large",
   "metadata": {},
   "outputs": [],
   "source": [
    "# based on common sense -\n",
    "hand_code_keywords = ['company']+['musician', 'singer', 'writer', 'artist', 'author']\\\n",
    "+ ['footballer', 'cricketer', 'football', 'baseball', 'rugby', 'hockey'] +\\\n",
    "['politician'] +['ship'] + ['crater', 'river'] + ['horse'] +['plant']\\\n",
    "+['album', 'EP', 'soundtrack'] +['film'] +['novel', 'magazine', 'book', 'journal', 'play', 'comics', 'newspaper', 'manga']"
   ]
  },
  {
   "cell_type": "code",
   "execution_count": 7,
   "id": "isolated-touch",
   "metadata": {},
   "outputs": [],
   "source": [
    "def create_keyword_features(df):\n",
    "    df_features = df.copy()\n",
    "    df_features['within_brackets'] = df['name'].str.extract('.*\\((.*)\\).*')\n",
    "\n",
    "    df_features_with_brackets = df_features[['within_brackets']].dropna(axis = 0)\n",
    "    for keyword in hand_code_keywords:\n",
    "        df_features_with_brackets['has_{}'.format(keyword)] = df_features_with_brackets['within_brackets']\\\n",
    "                                                                .apply(lambda x: keyword in x.lower() )\n",
    "\n",
    "    df_features = df_features.drop('within_brackets', axis = 1)\n",
    "    df_features_with_brackets = df_features_with_brackets.drop('within_brackets', axis = 1)\n",
    "\n",
    "    df_features_with_brackets.replace({True:1, False:0}, inplace = True)\n",
    "    df_features = df_features.merge(df_features_with_brackets, left_index = True, right_index = True, how = 'left')\n",
    "    df_features.fillna(0, inplace = True)\n",
    "    \n",
    "    return df_features"
   ]
  },
  {
   "cell_type": "code",
   "execution_count": 8,
   "id": "compact-patio",
   "metadata": {},
   "outputs": [],
   "source": [
    "train_keyword_features = create_keyword_features(train)\n",
    "all_cols = train_keyword_features.columns.tolist()\n",
    "keyword_feature_cols = [x for x in all_cols if x not in ['class', 'name']]\n",
    "train_keyword_features = train_keyword_features[keyword_feature_cols]"
   ]
  },
  {
   "cell_type": "markdown",
   "id": "precise-twelve",
   "metadata": {},
   "source": [
    "##### 3.3 NER explored in EDA"
   ]
  },
  {
   "cell_type": "code",
   "execution_count": 70,
   "id": "closing-adjustment",
   "metadata": {},
   "outputs": [],
   "source": [
    "nlp = spacy.load(\"en_core_web_sm\")"
   ]
  },
  {
   "cell_type": "code",
   "execution_count": 119,
   "id": "numeric-speaking",
   "metadata": {},
   "outputs": [],
   "source": [
    "# use nlp pipeline to paralellize\n",
    "def get_ner_labels(texts_list):\n",
    "    labels_list = []\n",
    "    for doc in nlp.pipe(texts_list, disable=[\"parser\"]):\n",
    "        labels = [ ent.label_ for ent in doc.ents]\n",
    "        labels_list.append(labels)\n",
    "    return labels_list"
   ]
  },
  {
   "cell_type": "code",
   "execution_count": 120,
   "id": "harmful-paintball",
   "metadata": {},
   "outputs": [],
   "source": [
    "def create_ner_features(df, NER_labels = None):\n",
    "    \n",
    "    df_features = df.copy()\n",
    "\n",
    "    df_features['NER_labels'] = get_ner_labels(df_features['name'].tolist())\n",
    "    df_features_with_NER = df_features[df_features['NER_labels'].apply(lambda x: len(x) !=0)][['NER_labels']]\n",
    "    \n",
    "    if NER_labels == None:\n",
    "        all_NER_labels = set(np.concatenate(df_features_with_NER['NER_labels'].tolist()))\n",
    "    else:\n",
    "        all_NER_labels = NER_labels\n",
    "        \n",
    "    for ner in all_NER_labels:\n",
    "        df_features_with_NER['ner_{}'.format(ner)] = df_features_with_NER['NER_labels'].apply(lambda x: ner in x )\n",
    "\n",
    "    df_features = df_features.drop('NER_labels', axis = 1)\n",
    "    df_features_with_NER = df_features_with_NER.drop('NER_labels', axis = 1)\n",
    "\n",
    "    df_features_with_NER.replace({True:1, False:0}, inplace = True)\n",
    "    df_features = df_features.merge(df_features_with_NER, left_index = True, right_index = True, how = 'left')\n",
    "    df_features.fillna(0, inplace = True)\n",
    "    \n",
    "    return df_features, all_NER_labels"
   ]
  },
  {
   "cell_type": "code",
   "execution_count": 127,
   "id": "unavailable-region",
   "metadata": {},
   "outputs": [
    {
     "name": "stdout",
     "output_type": "stream",
     "text": [
      "CPU times: user 3min 58s, sys: 378 ms, total: 3min 59s\n",
      "Wall time: 3min 59s\n"
     ]
    }
   ],
   "source": [
    "%%time\n",
    "train_ner_features, NER_labels_trained = create_ner_features(train)\n",
    "all_cols = train_ner_features.columns.tolist()\n",
    "ner_feature_cols = [x for x in all_cols if x not in ['class', 'name']]\n",
    "train_ner_features = train_ner_features[ner_feature_cols]"
   ]
  },
  {
   "cell_type": "markdown",
   "id": "ahead-diary",
   "metadata": {},
   "source": [
    "#### 4. Prepare feature set"
   ]
  },
  {
   "cell_type": "code",
   "execution_count": 128,
   "id": "running-valve",
   "metadata": {},
   "outputs": [],
   "source": [
    "train = train.merge(train_statistical_features,left_index = True, right_index = True, how = 'left')\\\n",
    ".merge(train_keyword_features,left_index = True, right_index = True, how = 'left')\\\n",
    ".merge(train_ner_features,left_index = True, right_index = True, how = 'left')"
   ]
  },
  {
   "cell_type": "code",
   "execution_count": 129,
   "id": "smart-realtor",
   "metadata": {},
   "outputs": [],
   "source": [
    "X = train.drop(['name','class'], axis = 1)\n",
    "y = train['class']"
   ]
  },
  {
   "cell_type": "markdown",
   "id": "phantom-tenant",
   "metadata": {},
   "source": [
    "#### 5. Train xgboost"
   ]
  },
  {
   "cell_type": "code",
   "execution_count": 130,
   "id": "intellectual-engineer",
   "metadata": {},
   "outputs": [
    {
     "name": "stdout",
     "output_type": "stream",
     "text": [
      "[18:47:54] WARNING: ../src/learner.cc:1061: Starting in XGBoost 1.3.0, the default evaluation metric used with the objective 'multi:softprob' was changed from 'merror' to 'mlogloss'. Explicitly set eval_metric if you'd like to restore the old behavior.\n"
     ]
    },
    {
     "data": {
      "text/plain": [
       "XGBClassifier(base_score=0.5, booster='gbtree', colsample_bylevel=1,\n",
       "              colsample_bynode=1, colsample_bytree=1, gamma=0, gpu_id=-1,\n",
       "              importance_type='gain', interaction_constraints='',\n",
       "              learning_rate=0.300000012, max_delta_step=0, max_depth=6,\n",
       "              min_child_weight=1, missing=nan, monotone_constraints='()',\n",
       "              n_estimators=100, n_jobs=8, nthread=-1, num_parallel_tree=1,\n",
       "              objective='multi:softprob', random_state=0, reg_alpha=0,\n",
       "              reg_lambda=1, scale_pos_weight=None, subsample=1,\n",
       "              tree_method='exact', validate_parameters=1, verbosity=None)"
      ]
     },
     "execution_count": 130,
     "metadata": {},
     "output_type": "execute_result"
    }
   ],
   "source": [
    "model = XGBClassifier(nthread = -1)\n",
    "model.fit(X, y)"
   ]
  },
  {
   "cell_type": "markdown",
   "id": "driven-speed",
   "metadata": {},
   "source": [
    "#### 6. Evaluate model"
   ]
  },
  {
   "cell_type": "code",
   "execution_count": 131,
   "id": "prompt-guitar",
   "metadata": {},
   "outputs": [],
   "source": [
    "# test = test.sample(frac = 0.1)\n",
    "\n",
    "test_statistical_features = create_statistical_features(test)[statistical_feature_cols]\n",
    "test_keyword_features = create_keyword_features(test)[keyword_feature_cols]\n",
    "\n",
    "test_ner_features, _ = create_ner_features(test, NER_labels_trained)\n",
    "test_ner_features = test_ner_features[ner_feature_cols]"
   ]
  },
  {
   "cell_type": "code",
   "execution_count": 132,
   "id": "imposed-scheme",
   "metadata": {},
   "outputs": [],
   "source": [
    "test = test.merge(test_statistical_features,left_index = True, right_index = True, how = 'left')\\\n",
    "            .merge(test_keyword_features,left_index = True, right_index = True, how = 'left')\\\n",
    "            .merge(test_ner_features,left_index = True, right_index = True, how = 'left')"
   ]
  },
  {
   "cell_type": "code",
   "execution_count": 133,
   "id": "persistent-matter",
   "metadata": {},
   "outputs": [],
   "source": [
    "test.fillna(0, inplace = True)"
   ]
  },
  {
   "cell_type": "code",
   "execution_count": 134,
   "id": "stable-support",
   "metadata": {},
   "outputs": [],
   "source": [
    "X_test = test.drop(['name','class'], axis = 1)\n",
    "y_test = test['class']"
   ]
  },
  {
   "cell_type": "code",
   "execution_count": 135,
   "id": "present-condition",
   "metadata": {},
   "outputs": [],
   "source": [
    "y_pred = model.predict(X_test)"
   ]
  },
  {
   "cell_type": "code",
   "execution_count": 136,
   "id": "governing-angle",
   "metadata": {},
   "outputs": [
    {
     "name": "stdout",
     "output_type": "stream",
     "text": [
      "Accuracy: 43.63%\n"
     ]
    }
   ],
   "source": [
    "accuracy = accuracy_score(y_test, y_pred)\n",
    "print(\"Accuracy: %.2f%%\" % (accuracy * 100.0))"
   ]
  },
  {
   "cell_type": "code",
   "execution_count": 138,
   "id": "digital-competition",
   "metadata": {},
   "outputs": [
    {
     "name": "stdout",
     "output_type": "stream",
     "text": [
      "              precision    recall  f1-score   support\n",
      "\n",
      "           1      0.297     0.302     0.299      7982\n",
      "           2      0.461     0.686     0.551      8034\n",
      "           3      0.383     0.171     0.237      8004\n",
      "           4      0.307     0.656     0.418      7907\n",
      "           5      0.457     0.337     0.388      8152\n",
      "           6      0.839     0.683     0.753      7981\n",
      "           7      0.365     0.253     0.299      7944\n",
      "           8      0.430     0.499     0.462      7959\n",
      "           9      0.405     0.445     0.424      8103\n",
      "          10      0.364     0.209     0.265      7913\n",
      "          11      0.375     0.612     0.465      8011\n",
      "          12      0.638     0.495     0.557      7917\n",
      "          13      0.526     0.487     0.506      8031\n",
      "          14      0.657     0.213     0.322      5820\n",
      "\n",
      "    accuracy                          0.436    109758\n",
      "   macro avg      0.465     0.432     0.425    109758\n",
      "weighted avg      0.461     0.436     0.427    109758\n",
      "\n"
     ]
    }
   ],
   "source": [
    "print(classification_report(y_test, y_pred, digits=3))"
   ]
  },
  {
   "cell_type": "code",
   "execution_count": 139,
   "id": "cubic-pointer",
   "metadata": {},
   "outputs": [
    {
     "data": {
      "text/html": [
       "<div>\n",
       "<style scoped>\n",
       "    .dataframe tbody tr th:only-of-type {\n",
       "        vertical-align: middle;\n",
       "    }\n",
       "\n",
       "    .dataframe tbody tr th {\n",
       "        vertical-align: top;\n",
       "    }\n",
       "\n",
       "    .dataframe thead th {\n",
       "        text-align: right;\n",
       "    }\n",
       "</style>\n",
       "<table border=\"1\" class=\"dataframe\">\n",
       "  <thead>\n",
       "    <tr style=\"text-align: right;\">\n",
       "      <th></th>\n",
       "      <th>class_name</th>\n",
       "      <th>class</th>\n",
       "    </tr>\n",
       "  </thead>\n",
       "  <tbody>\n",
       "    <tr>\n",
       "      <th>0</th>\n",
       "      <td>Company</td>\n",
       "      <td>1</td>\n",
       "    </tr>\n",
       "    <tr>\n",
       "      <th>1</th>\n",
       "      <td>EducationalInstitution</td>\n",
       "      <td>2</td>\n",
       "    </tr>\n",
       "    <tr>\n",
       "      <th>2</th>\n",
       "      <td>Artist</td>\n",
       "      <td>3</td>\n",
       "    </tr>\n",
       "    <tr>\n",
       "      <th>3</th>\n",
       "      <td>Athlete</td>\n",
       "      <td>4</td>\n",
       "    </tr>\n",
       "    <tr>\n",
       "      <th>4</th>\n",
       "      <td>OfficeHolder</td>\n",
       "      <td>5</td>\n",
       "    </tr>\n",
       "    <tr>\n",
       "      <th>5</th>\n",
       "      <td>MeanOfTransportation</td>\n",
       "      <td>6</td>\n",
       "    </tr>\n",
       "    <tr>\n",
       "      <th>6</th>\n",
       "      <td>Building</td>\n",
       "      <td>7</td>\n",
       "    </tr>\n",
       "    <tr>\n",
       "      <th>7</th>\n",
       "      <td>NaturalPlace</td>\n",
       "      <td>8</td>\n",
       "    </tr>\n",
       "    <tr>\n",
       "      <th>8</th>\n",
       "      <td>Village</td>\n",
       "      <td>9</td>\n",
       "    </tr>\n",
       "    <tr>\n",
       "      <th>9</th>\n",
       "      <td>Animal</td>\n",
       "      <td>10</td>\n",
       "    </tr>\n",
       "    <tr>\n",
       "      <th>10</th>\n",
       "      <td>Plant</td>\n",
       "      <td>11</td>\n",
       "    </tr>\n",
       "    <tr>\n",
       "      <th>11</th>\n",
       "      <td>Album</td>\n",
       "      <td>12</td>\n",
       "    </tr>\n",
       "    <tr>\n",
       "      <th>12</th>\n",
       "      <td>Film</td>\n",
       "      <td>13</td>\n",
       "    </tr>\n",
       "    <tr>\n",
       "      <th>13</th>\n",
       "      <td>WrittenWork</td>\n",
       "      <td>14</td>\n",
       "    </tr>\n",
       "  </tbody>\n",
       "</table>\n",
       "</div>"
      ],
      "text/plain": [
       "                class_name  class\n",
       "0                  Company      1\n",
       "1   EducationalInstitution      2\n",
       "2                   Artist      3\n",
       "3                  Athlete      4\n",
       "4             OfficeHolder      5\n",
       "5     MeanOfTransportation      6\n",
       "6                 Building      7\n",
       "7             NaturalPlace      8\n",
       "8                  Village      9\n",
       "9                   Animal     10\n",
       "10                   Plant     11\n",
       "11                   Album     12\n",
       "12                    Film     13\n",
       "13             WrittenWork     14"
      ]
     },
     "execution_count": 139,
     "metadata": {},
     "output_type": "execute_result"
    }
   ],
   "source": [
    "classes_list = pd.read_csv('/home/jupyter/sb-entity-classification/data/classes.txt', header = None)\n",
    "classes_list['class'] = classes_list.index\n",
    "classes_list.columns = ['class_name', 'class']\n",
    "classes_list['class'] = classes_list['class'] + 1  # based on information provided in the brief\n",
    "classes_list"
   ]
  },
  {
   "cell_type": "code",
   "execution_count": null,
   "id": "flush-asset",
   "metadata": {},
   "outputs": [],
   "source": []
  }
 ],
 "metadata": {
  "environment": {
   "name": "tf2-gpu.2-3.m65",
   "type": "gcloud",
   "uri": "gcr.io/deeplearning-platform-release/tf2-gpu.2-3:m65"
  },
  "kernelspec": {
   "display_name": "Python 3",
   "language": "python",
   "name": "python3"
  },
  "language_info": {
   "codemirror_mode": {
    "name": "ipython",
    "version": 3
   },
   "file_extension": ".py",
   "mimetype": "text/x-python",
   "name": "python",
   "nbconvert_exporter": "python",
   "pygments_lexer": "ipython3",
   "version": "3.7.10"
  }
 },
 "nbformat": 4,
 "nbformat_minor": 5
}
