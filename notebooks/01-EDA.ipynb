{
 "cells": [
  {
   "cell_type": "markdown",
   "id": "cutting-chance",
   "metadata": {},
   "source": [
    "_Purpose_ of this notebook is Exploratary Data Analysis.\n",
    "\n",
    "_Contents_ of this notebooks is as follows:\n",
    "\n",
    "_Summary_ of key findings and decisions are as follows:\n",
    "* There are three distinct classes in the brief that are human names, namely (puns unintended),artist, athelete, and office holder. Without explicit profession sometiumes supplied in parathensis within 'name' or additional contexts of external datasets, one's name should not contain information that reasonably and fairly implies one's profession. Therefore, when a profession is not included in the 'name' field, the designed model should only output a class called 'human names' rather than attempted prediction of profession based on whatever spurious associations or biases there may be in training data;\n",
    "* The distribution includinng the few noted specificities in the supplied dataset will be _assumed_ to mirror distribution of the dataset that the ML application will be deployed on, i.e. what's expected of customers' input. The noted specificities include (1) presence of non-ascii words is highly uneven across classes; (2) names for classes plant and animal are mainly their scientific Latin names. If this assumption is violated, then collection of more diverse data points  should be pursued to ensure generalizability of the model."
   ]
  },
  {
   "cell_type": "code",
   "execution_count": 1,
   "id": "brave-vitamin",
   "metadata": {},
   "outputs": [],
   "source": [
    "import pandas as pd\n",
    "import seaborn as sns\n",
    "import string\n",
    "import warnings\n",
    "import matplotlib.pyplot as plt\n",
    "\n",
    "from textblob import TextBlob\n",
    "\n",
    "warnings.filterwarnings(\"ignore\")"
   ]
  },
  {
   "cell_type": "markdown",
   "id": "mexican-insulation",
   "metadata": {},
   "source": [
    "### 1. read in data"
   ]
  },
  {
   "cell_type": "code",
   "execution_count": 6,
   "id": "dynamic-omaha",
   "metadata": {},
   "outputs": [],
   "source": [
    "df = pd.read_csv('/home/jupyter/sb-entity-classification/data/data.csv')\n",
    "classes_list = pd.read_csv('/home/jupyter/sb-entity-classification/data/classes.txt', header = None)"
   ]
  },
  {
   "cell_type": "code",
   "execution_count": 7,
   "id": "linear-grace",
   "metadata": {},
   "outputs": [],
   "source": [
    "classes_list['class'] = classes_list.index\n",
    "classes_list.columns = ['class_name', 'class']\n",
    "df.columns = ['class','name']\n",
    "classes_list['class'] = classes_list['class'] + 1  # based on information provided in the brief"
   ]
  },
  {
   "cell_type": "code",
   "execution_count": 8,
   "id": "flexible-highlight",
   "metadata": {},
   "outputs": [
    {
     "data": {
      "text/html": [
       "<div>\n",
       "<style scoped>\n",
       "    .dataframe tbody tr th:only-of-type {\n",
       "        vertical-align: middle;\n",
       "    }\n",
       "\n",
       "    .dataframe tbody tr th {\n",
       "        vertical-align: top;\n",
       "    }\n",
       "\n",
       "    .dataframe thead th {\n",
       "        text-align: right;\n",
       "    }\n",
       "</style>\n",
       "<table border=\"1\" class=\"dataframe\">\n",
       "  <thead>\n",
       "    <tr style=\"text-align: right;\">\n",
       "      <th></th>\n",
       "      <th>class_name</th>\n",
       "      <th>class</th>\n",
       "    </tr>\n",
       "  </thead>\n",
       "  <tbody>\n",
       "    <tr>\n",
       "      <th>0</th>\n",
       "      <td>Company</td>\n",
       "      <td>1</td>\n",
       "    </tr>\n",
       "    <tr>\n",
       "      <th>1</th>\n",
       "      <td>EducationalInstitution</td>\n",
       "      <td>2</td>\n",
       "    </tr>\n",
       "    <tr>\n",
       "      <th>2</th>\n",
       "      <td>Artist</td>\n",
       "      <td>3</td>\n",
       "    </tr>\n",
       "  </tbody>\n",
       "</table>\n",
       "</div>"
      ],
      "text/plain": [
       "               class_name  class\n",
       "0                 Company      1\n",
       "1  EducationalInstitution      2\n",
       "2                  Artist      3"
      ]
     },
     "execution_count": 8,
     "metadata": {},
     "output_type": "execute_result"
    }
   ],
   "source": [
    "classes_list.head(3)"
   ]
  },
  {
   "cell_type": "code",
   "execution_count": 9,
   "id": "threaded-chamber",
   "metadata": {},
   "outputs": [
    {
     "data": {
      "text/html": [
       "<div>\n",
       "<style scoped>\n",
       "    .dataframe tbody tr th:only-of-type {\n",
       "        vertical-align: middle;\n",
       "    }\n",
       "\n",
       "    .dataframe tbody tr th {\n",
       "        vertical-align: top;\n",
       "    }\n",
       "\n",
       "    .dataframe thead th {\n",
       "        text-align: right;\n",
       "    }\n",
       "</style>\n",
       "<table border=\"1\" class=\"dataframe\">\n",
       "  <thead>\n",
       "    <tr style=\"text-align: right;\">\n",
       "      <th></th>\n",
       "      <th>class</th>\n",
       "      <th>name</th>\n",
       "    </tr>\n",
       "  </thead>\n",
       "  <tbody>\n",
       "    <tr>\n",
       "      <th>0</th>\n",
       "      <td>1</td>\n",
       "      <td>E. D. Abbott Ltd</td>\n",
       "    </tr>\n",
       "    <tr>\n",
       "      <th>1</th>\n",
       "      <td>1</td>\n",
       "      <td>Schwan-Stabilo</td>\n",
       "    </tr>\n",
       "  </tbody>\n",
       "</table>\n",
       "</div>"
      ],
      "text/plain": [
       "   class              name\n",
       "0      1  E. D. Abbott Ltd\n",
       "1      1    Schwan-Stabilo"
      ]
     },
     "execution_count": 9,
     "metadata": {},
     "output_type": "execute_result"
    }
   ],
   "source": [
    "df.head(2)"
   ]
  },
  {
   "cell_type": "markdown",
   "id": "excessive-station",
   "metadata": {},
   "source": [
    "### 2. initial check of data quality"
   ]
  },
  {
   "cell_type": "code",
   "execution_count": 10,
   "id": "martial-patch",
   "metadata": {},
   "outputs": [
    {
     "name": "stdout",
     "output_type": "stream",
     "text": [
      "df has 548787 rows and 2 cols\n",
      "after dedup, df has 548787 rows and 2 cols\n"
     ]
    }
   ],
   "source": [
    "print('df has {} rows and {} cols'.format(df.shape[0], df.shape[1]))\n",
    "df = df.drop_duplicates()\n",
    "print('after dedup, df has {} rows and {} cols'.format(df.shape[0], df.shape[1]))"
   ]
  },
  {
   "cell_type": "code",
   "execution_count": 11,
   "id": "appreciated-november",
   "metadata": {},
   "outputs": [
    {
     "data": {
      "text/plain": [
       "class    0\n",
       "name     0\n",
       "dtype: int64"
      ]
     },
     "execution_count": 11,
     "metadata": {},
     "output_type": "execute_result"
    }
   ],
   "source": [
    "df.isnull().sum()"
   ]
  },
  {
   "cell_type": "markdown",
   "id": "controlling-practice",
   "metadata": {},
   "source": [
    "No null values or duplicates in data"
   ]
  },
  {
   "cell_type": "code",
   "execution_count": 12,
   "id": "clear-shell",
   "metadata": {},
   "outputs": [
    {
     "name": "stdout",
     "output_type": "stream",
     "text": [
      "All good :) Every row has a distinct name in df\n"
     ]
    }
   ],
   "source": [
    "if len(df['name'].unique()) == df.shape[0]:\n",
    "    print('All good :) Every row has a distinct name in df')\n",
    "else:\n",
    "    print('Alert: The same name has been labeled as different classes.')"
   ]
  },
  {
   "cell_type": "markdown",
   "id": "several-sound",
   "metadata": {},
   "source": [
    "### 3. Initial examination of examples per class"
   ]
  },
  {
   "cell_type": "code",
   "execution_count": 15,
   "id": "architectural-webster",
   "metadata": {},
   "outputs": [
    {
     "data": {
      "text/plain": [
       "<AxesSubplot:xlabel='class'>"
      ]
     },
     "execution_count": 15,
     "metadata": {},
     "output_type": "execute_result"
    },
    {
     "data": {
      "image/png": "[encoded data removed]",
      "text/plain": [
       "<Figure size 432x288 with 1 Axes>"
      ]
     },
     "metadata": {
      "needs_background": "light"
     },
     "output_type": "display_data"
    }
   ],
   "source": [
    "sns.distplot(df['class'], kde = False)"
   ]
  },
  {
   "cell_type": "markdown",
   "id": "mental-server",
   "metadata": {},
   "source": [
    "Same number of examples (40k) per class, except for the last class (30k examples)"
   ]
  },
  {
   "cell_type": "code",
   "execution_count": 16,
   "id": "transsexual-lithuania",
   "metadata": {},
   "outputs": [
    {
     "data": {
      "text/html": [
       "<div>\n",
       "<style scoped>\n",
       "    .dataframe tbody tr th:only-of-type {\n",
       "        vertical-align: middle;\n",
       "    }\n",
       "\n",
       "    .dataframe tbody tr th {\n",
       "        vertical-align: top;\n",
       "    }\n",
       "\n",
       "    .dataframe thead th {\n",
       "        text-align: right;\n",
       "    }\n",
       "</style>\n",
       "<table border=\"1\" class=\"dataframe\">\n",
       "  <thead>\n",
       "    <tr style=\"text-align: right;\">\n",
       "      <th></th>\n",
       "      <th>class_name</th>\n",
       "      <th>class</th>\n",
       "    </tr>\n",
       "  </thead>\n",
       "  <tbody>\n",
       "    <tr>\n",
       "      <th>0</th>\n",
       "      <td>Company</td>\n",
       "      <td>1</td>\n",
       "    </tr>\n",
       "    <tr>\n",
       "      <th>1</th>\n",
       "      <td>EducationalInstitution</td>\n",
       "      <td>2</td>\n",
       "    </tr>\n",
       "    <tr>\n",
       "      <th>2</th>\n",
       "      <td>Artist</td>\n",
       "      <td>3</td>\n",
       "    </tr>\n",
       "    <tr>\n",
       "      <th>3</th>\n",
       "      <td>Athlete</td>\n",
       "      <td>4</td>\n",
       "    </tr>\n",
       "    <tr>\n",
       "      <th>4</th>\n",
       "      <td>OfficeHolder</td>\n",
       "      <td>5</td>\n",
       "    </tr>\n",
       "    <tr>\n",
       "      <th>5</th>\n",
       "      <td>MeanOfTransportation</td>\n",
       "      <td>6</td>\n",
       "    </tr>\n",
       "    <tr>\n",
       "      <th>6</th>\n",
       "      <td>Building</td>\n",
       "      <td>7</td>\n",
       "    </tr>\n",
       "    <tr>\n",
       "      <th>7</th>\n",
       "      <td>NaturalPlace</td>\n",
       "      <td>8</td>\n",
       "    </tr>\n",
       "    <tr>\n",
       "      <th>8</th>\n",
       "      <td>Village</td>\n",
       "      <td>9</td>\n",
       "    </tr>\n",
       "    <tr>\n",
       "      <th>9</th>\n",
       "      <td>Animal</td>\n",
       "      <td>10</td>\n",
       "    </tr>\n",
       "    <tr>\n",
       "      <th>10</th>\n",
       "      <td>Plant</td>\n",
       "      <td>11</td>\n",
       "    </tr>\n",
       "    <tr>\n",
       "      <th>11</th>\n",
       "      <td>Album</td>\n",
       "      <td>12</td>\n",
       "    </tr>\n",
       "    <tr>\n",
       "      <th>12</th>\n",
       "      <td>Film</td>\n",
       "      <td>13</td>\n",
       "    </tr>\n",
       "    <tr>\n",
       "      <th>13</th>\n",
       "      <td>WrittenWork</td>\n",
       "      <td>14</td>\n",
       "    </tr>\n",
       "  </tbody>\n",
       "</table>\n",
       "</div>"
      ],
      "text/plain": [
       "                class_name  class\n",
       "0                  Company      1\n",
       "1   EducationalInstitution      2\n",
       "2                   Artist      3\n",
       "3                  Athlete      4\n",
       "4             OfficeHolder      5\n",
       "5     MeanOfTransportation      6\n",
       "6                 Building      7\n",
       "7             NaturalPlace      8\n",
       "8                  Village      9\n",
       "9                   Animal     10\n",
       "10                   Plant     11\n",
       "11                   Album     12\n",
       "12                    Film     13\n",
       "13             WrittenWork     14"
      ]
     },
     "execution_count": 16,
     "metadata": {},
     "output_type": "execute_result"
    }
   ],
   "source": [
    "classes_list"
   ]
  },
  {
   "cell_type": "code",
   "execution_count": 17,
   "id": "velvet-seeker",
   "metadata": {},
   "outputs": [
    {
     "name": "stdout",
     "output_type": "stream",
     "text": [
      "Examples of names for class Company are:\n",
      "['Source Technologies' 'MAKO Surgical Corp.' 'KTM' 'Microscan Systems'\n",
      " 'Amer Sports'] \n",
      "\n",
      "Examples of names for class EducationalInstitution are:\n",
      "[\"Académie internationale Mohammed VI de l'aviation civile\"\n",
      " 'Universidad Argentina de la Empresa'\n",
      " 'Manipal College of Dental Sciences Mangalore' 'Vanderbilt University'\n",
      " 'Jawaharlal Nehru Medical College Aligarh'] \n",
      "\n",
      "Examples of names for class Artist are:\n",
      "['Steven Pippin' 'Mary Ingham' 'Shalom Hanoch' 'Keith Ferguson (musician)'\n",
      " 'Emilie Poulsson'] \n",
      "\n",
      "Examples of names for class Athlete are:\n",
      "[\"Una O'Dwyer (camogie)\" 'Marc-Vivien Foé' 'Kyle Russell'\n",
      " 'Fernando Marcelo Campagnolo' 'Steve Billirakis'] \n",
      "\n",
      "Examples of names for class OfficeHolder are:\n",
      "['Hijikata Katsunaga' 'Saidi Bwanamdogo' 'Joseph Preston Jr.'\n",
      " 'Said Mohammad Sammour' 'Yu Zhengsheng'] \n",
      "\n",
      "Examples of names for class MeanOfTransportation are:\n",
      "['Maserati 6CM' 'USS Glover (FF-1098)' 'Martin-Baker MB 3'\n",
      " 'USS Southerland (DD-743)' 'USS Taconic (AGC-17)'] \n",
      "\n",
      "Examples of names for class Building are:\n",
      "['Legion State Park' 'Bethel Baptist Church (Houston Texas)'\n",
      " 'Jesse Tay House' 'Manor House Hotel' 'Hager Building'] \n",
      "\n",
      "Examples of names for class NaturalPlace are:\n",
      "['Kiowa Creek' 'Curături River' 'Big Pine Mountain' 'Negoiu River (Ilva)'\n",
      " 'Naifer Bach'] \n",
      "\n",
      "Examples of names for class Village are:\n",
      "['Oude Pekela' 'Świder Lublin Voivodeship' 'Manhalli' 'Žukovac'\n",
      " 'Büyükelmalı Pazaryeri'] \n",
      "\n",
      "Examples of names for class Animal are:\n",
      "['Ernassa ignata' 'Three-banded butterflyfish' 'Sphingnotus insignis'\n",
      " 'Daphnella cladara' 'Orfevre'] \n",
      "\n",
      "Examples of names for class Plant are:\n",
      "['Sweet pea' 'Grevillea plurijuga' 'Croton texensis' 'Vochysia'\n",
      " 'Astragalus leptaleus'] \n",
      "\n",
      "Examples of names for class Album are:\n",
      "['Plagiarism (EP)' 'The Family Values Tour 2001'\n",
      " 'Holiday (Roberta Flack album)' 'Sweet Venus' 'Lust 2'] \n",
      "\n",
      "Examples of names for class Film are:\n",
      "[\"The Tiger's Tail\" 'Seelabathi' 'Réquiem para Laura Martin'\n",
      " 'The Sundowners (1950 film)'\n",
      " 'Band and Battalion of the U.S. Indian School'] \n",
      "\n",
      "Examples of names for class WrittenWork are:\n",
      "['Venetia (Heyer novel)' 'Mission of Gravity' \"Fiela's Child\"\n",
      " 'Guilty Wives' 'The Grass-Cutting Sword'] \n",
      "\n"
     ]
    }
   ],
   "source": [
    "groups = df.groupby('class')\n",
    "\n",
    "for i in classes_list['class'].unique():\n",
    "    print('Examples of names for class {} are:'.format(classes_list[classes_list['class'] ==i]['class_name'].values[0]))\n",
    "    example_names = groups.get_group(i).sample(5)['name'].values\n",
    "    print(example_names, '\\n')"
   ]
  },
  {
   "cell_type": "markdown",
   "id": "frozen-colon",
   "metadata": {},
   "source": [
    "_Observations_:\n",
    "1. class name and class number are matched (as verified by the printed examples)\n",
    "2. texts in name include:\n",
    "(1) non-English words and non-ascii characters, such as 'Messaggero Veneto – Giornale del Friuli' and 'Otłoczynek'. \n",
    "(2) brackets and punctuation, such as 'Anna Lucasta (1959 film)' and 'I Want to Live!'. \n",
    "(3) some key words such as 'album', 'film', 'musician' are included in brackets, which could be especially useful for classification of genre. \n",
    "(4) length of texts in 'names' varies.  "
   ]
  },
  {
   "cell_type": "markdown",
   "id": "proper-rehabilitation",
   "metadata": {},
   "source": [
    "### 4. Quantify the observed qualities of texts "
   ]
  },
  {
   "cell_type": "code",
   "execution_count": 18,
   "id": "thrown-wildlife",
   "metadata": {},
   "outputs": [],
   "source": [
    "df_features = df.copy()\n",
    "df_features = df_features.merge(classes_list, on = 'class')"
   ]
  },
  {
   "cell_type": "markdown",
   "id": "parallel-specific",
   "metadata": {},
   "source": [
    "#### 4.1 Length of texts in names and whether the distribution varies across classes."
   ]
  },
  {
   "cell_type": "code",
   "execution_count": 19,
   "id": "excellent-hampshire",
   "metadata": {},
   "outputs": [],
   "source": [
    "df_features['num_chars'] = df['name'].str.len()"
   ]
  },
  {
   "cell_type": "code",
   "execution_count": 20,
   "id": "soviet-netscape",
   "metadata": {},
   "outputs": [
    {
     "data": {
      "text/plain": [
       "<AxesSubplot:xlabel='num_chars'>"
      ]
     },
     "execution_count": 20,
     "metadata": {},
     "output_type": "execute_result"
    },
    {
     "data": {
      "image/png": "[encoded data removed]",
      "text/plain": [
       "<Figure size 432x288 with 1 Axes>"
      ]
     },
     "metadata": {
      "needs_background": "light"
     },
     "output_type": "display_data"
    }
   ],
   "source": [
    "sns.distplot(df_features['num_chars'], kde = False)"
   ]
  },
  {
   "cell_type": "code",
   "execution_count": 21,
   "id": "organizational-memorabilia",
   "metadata": {},
   "outputs": [
    {
     "data": {
      "text/plain": [
       "<seaborn.axisgrid.FacetGrid at 0x7f887b49cf10>"
      ]
     },
     "execution_count": 21,
     "metadata": {},
     "output_type": "execute_result"
    },
    {
     "data": {
      "image/png": "[encoded data removed]",
      "text/plain": [
       "<Figure size 506.5x360 with 1 Axes>"
      ]
     },
     "metadata": {
      "needs_background": "light"
     },
     "output_type": "display_data"
    }
   ],
   "source": [
    "sns.displot(data=df_features, x='num_chars', hue='class_name', kind='kde', palette='Set1')"
   ]
  },
  {
   "cell_type": "code",
   "execution_count": 22,
   "id": "burning-thumbnail",
   "metadata": {},
   "outputs": [
    {
     "data": {
      "text/plain": [
       "<seaborn.axisgrid.FacetGrid at 0x7f887b34e650>"
      ]
     },
     "execution_count": 22,
     "metadata": {},
     "output_type": "execute_result"
    },
    {
     "data": {
      "image/png": "[encoded data removed]",
      "text/plain": [
       "<Figure size 506.5x360 with 1 Axes>"
      ]
     },
     "metadata": {
      "needs_background": "light"
     },
     "output_type": "display_data"
    }
   ],
   "source": [
    "### Zoom in to the more dense area (without the long tail)\n",
    "sns.displot(data = df_features[df_features['num_chars']<25], x='num_chars', hue='class_name', kind='kde', palette='Set1')"
   ]
  },
  {
   "cell_type": "markdown",
   "id": "ancient-medicare",
   "metadata": {},
   "source": [
    "_Observations_:\n",
    "1. Class 'Plant' seems more likely to have longer names (due to the fact that many of / potentially all of them are Latin names);\n",
    "2. 'Athlete' and 'Artist', two classes that refer to human names, seem to have a similar distritbution of length, peaking more prominantly around 12 characters. Interestingly, OfficeHolder, another class that refers to human names, is slightly less concentrated at the medium length. \n",
    "\n",
    "This observed similarity of char count distribution between these human names classes further prompt the question: how would the model be able to identify someone's profession from the name, unless it's explicitly stated, as it is the case in the example of 'Keith Ferguson (musician)'?"
   ]
  },
  {
   "cell_type": "markdown",
   "id": "willing-discussion",
   "metadata": {},
   "source": [
    "#### 4.2 Number of words in names and whether the distribution varies across classes."
   ]
  },
  {
   "cell_type": "code",
   "execution_count": 25,
   "id": "israeli-travel",
   "metadata": {},
   "outputs": [],
   "source": [
    "df_features['num_words'] = df_features['name'].apply(lambda x: len(x.split()))"
   ]
  },
  {
   "cell_type": "code",
   "execution_count": 96,
   "id": "helpful-praise",
   "metadata": {},
   "outputs": [
    {
     "data": {
      "text/plain": [
       "<AxesSubplot:xlabel='num_words'>"
      ]
     },
     "execution_count": 96,
     "metadata": {},
     "output_type": "execute_result"
    },
    {
     "data": {
      "image/png": "[encoded data removed]",
      "text/plain": [
       "<Figure size 432x288 with 1 Axes>"
      ]
     },
     "metadata": {
      "needs_background": "light"
     },
     "output_type": "display_data"
    }
   ],
   "source": [
    "sns.distplot(df_features['num_words'], kde = False)"
   ]
  },
  {
   "cell_type": "code",
   "execution_count": 97,
   "id": "british-overhead",
   "metadata": {},
   "outputs": [
    {
     "data": {
      "text/plain": [
       "31"
      ]
     },
     "execution_count": 97,
     "metadata": {},
     "output_type": "execute_result"
    }
   ],
   "source": [
    "df_features['num_words'].max() # useful to know when tokenising words during preprocessing"
   ]
  },
  {
   "cell_type": "code",
   "execution_count": 27,
   "id": "distributed-capitol",
   "metadata": {},
   "outputs": [
    {
     "data": {
      "text/plain": [
       "<seaborn.axisgrid.FacetGrid at 0x7f887a2fcfd0>"
      ]
     },
     "execution_count": 27,
     "metadata": {},
     "output_type": "execute_result"
    },
    {
     "data": {
      "image/png": "[encoded data removed]",
      "text/plain": [
       "<Figure size 506.5x360 with 1 Axes>"
      ]
     },
     "metadata": {
      "needs_background": "light"
     },
     "output_type": "display_data"
    }
   ],
   "source": [
    "sns.displot(data=df_features, x='num_words', hue='class_name', kind='kde', palette='Set1')"
   ]
  },
  {
   "cell_type": "code",
   "execution_count": 28,
   "id": "respected-beatles",
   "metadata": {},
   "outputs": [
    {
     "data": {
      "text/plain": [
       "<BarContainer object of 14 artists>"
      ]
     },
     "execution_count": 28,
     "metadata": {},
     "output_type": "execute_result"
    },
    {
     "data": {
      "image/png": "[encoded data removed]",
      "text/plain": [
       "<Figure size 432x288 with 1 Axes>"
      ]
     },
     "metadata": {
      "needs_background": "light"
     },
     "output_type": "display_data"
    }
   ],
   "source": [
    "plt.barh(df_features.groupby('class_name').mean()['num_words'].sort_values().index, \n",
    "         df_features.groupby('class_name').mean()['num_words'].sort_values(), \n",
    "         align='center')"
   ]
  },
  {
   "cell_type": "code",
   "execution_count": 50,
   "id": "signal-sunset",
   "metadata": {},
   "outputs": [
    {
     "name": "stdout",
     "output_type": "stream",
     "text": [
      "['Red triangle slug' 'Vanitrochus geertsi' 'Paractinoceras']\n",
      "['Ocimum centraliafricanum' 'Vitis tsoii' 'Vigna owahuensis']\n"
     ]
    }
   ],
   "source": [
    "print(df_features[df_features['class_name'] == 'Animal'].sample(3)['name'].values)\n",
    "print(df_features[df_features['class_name'] == 'Plant'].sample(3)['name'].values)"
   ]
  },
  {
   "cell_type": "markdown",
   "id": "controlled-enhancement",
   "metadata": {},
   "source": [
    "Plant (and some Animals classes) in this dataset contain latin names, explaining the few, long words contained in their names. This should be noted - if the ML application expects customers to input colliqual plant or animal names, then labeled data with more similar names for these two classes would need to be collected, and this model to retrain. "
   ]
  },
  {
   "cell_type": "markdown",
   "id": "angry-pleasure",
   "metadata": {},
   "source": [
    "#### 4.3 Number of punctuations, digits, nonascii characters in names and whether the distribution varies across classes."
   ]
  },
  {
   "cell_type": "code",
   "execution_count": 29,
   "id": "lyric-lawyer",
   "metadata": {},
   "outputs": [],
   "source": [
    "count = lambda l1,l2: sum([1 for x in l1 if x in l2])  "
   ]
  },
  {
   "cell_type": "code",
   "execution_count": 30,
   "id": "upper-lawsuit",
   "metadata": {},
   "outputs": [],
   "source": [
    "df_features['num_punctuations']= df_features['name'].apply(lambda x: count(x,set(string.punctuation)))\n",
    "df_features['num_ascii']= df_features['name'].apply(lambda x: count(x,set(string.ascii_letters)))\n",
    "df_features['num_whitespace']= df_features['name'].apply(lambda x: count(x,set(string.whitespace)))\n",
    "df_features['num_digits']= df_features['name'].apply(lambda x: count(x,set(string.digits)))\n",
    "\n",
    "df_features['num_nonascii'] = df_features['num_chars']-df_features['num_punctuations']-df_features['num_digits']-df_features['num_ascii']- df_features['num_whitespace']\n",
    "\n",
    "df_features = df_features.drop(['num_whitespace', 'num_ascii'], axis = 1)"
   ]
  },
  {
   "cell_type": "code",
   "execution_count": 31,
   "id": "informal-intervention",
   "metadata": {},
   "outputs": [
    {
     "data": {
      "text/html": [
       "<div>\n",
       "<style scoped>\n",
       "    .dataframe tbody tr th:only-of-type {\n",
       "        vertical-align: middle;\n",
       "    }\n",
       "\n",
       "    .dataframe tbody tr th {\n",
       "        vertical-align: top;\n",
       "    }\n",
       "\n",
       "    .dataframe thead th {\n",
       "        text-align: right;\n",
       "    }\n",
       "</style>\n",
       "<table border=\"1\" class=\"dataframe\">\n",
       "  <thead>\n",
       "    <tr style=\"text-align: right;\">\n",
       "      <th></th>\n",
       "      <th>class</th>\n",
       "      <th>name</th>\n",
       "      <th>class_name</th>\n",
       "      <th>num_chars</th>\n",
       "      <th>num_word</th>\n",
       "      <th>num_words</th>\n",
       "      <th>num_punctuations</th>\n",
       "      <th>num_digits</th>\n",
       "      <th>num_nonascii</th>\n",
       "    </tr>\n",
       "  </thead>\n",
       "  <tbody>\n",
       "    <tr>\n",
       "      <th>0</th>\n",
       "      <td>1</td>\n",
       "      <td>E. D. Abbott Ltd</td>\n",
       "      <td>Company</td>\n",
       "      <td>16</td>\n",
       "      <td>4</td>\n",
       "      <td>4</td>\n",
       "      <td>2</td>\n",
       "      <td>0</td>\n",
       "      <td>0</td>\n",
       "    </tr>\n",
       "    <tr>\n",
       "      <th>1</th>\n",
       "      <td>1</td>\n",
       "      <td>Schwan-Stabilo</td>\n",
       "      <td>Company</td>\n",
       "      <td>14</td>\n",
       "      <td>1</td>\n",
       "      <td>1</td>\n",
       "      <td>1</td>\n",
       "      <td>0</td>\n",
       "      <td>0</td>\n",
       "    </tr>\n",
       "  </tbody>\n",
       "</table>\n",
       "</div>"
      ],
      "text/plain": [
       "   class              name class_name  num_chars  num_word  num_words  \\\n",
       "0      1  E. D. Abbott Ltd    Company         16         4          4   \n",
       "1      1    Schwan-Stabilo    Company         14         1          1   \n",
       "\n",
       "   num_punctuations  num_digits  num_nonascii  \n",
       "0                 2           0             0  \n",
       "1                 1           0             0  "
      ]
     },
     "execution_count": 31,
     "metadata": {},
     "output_type": "execute_result"
    }
   ],
   "source": [
    "df_features.head(2)"
   ]
  },
  {
   "cell_type": "code",
   "execution_count": 32,
   "id": "spanish-composite",
   "metadata": {},
   "outputs": [
    {
     "data": {
      "text/plain": [
       "<BarContainer object of 14 artists>"
      ]
     },
     "execution_count": 32,
     "metadata": {},
     "output_type": "execute_result"
    },
    {
     "data": {
      "image/png": "[encoded data removed]",
      "text/plain": [
       "<Figure size 432x288 with 1 Axes>"
      ]
     },
     "metadata": {
      "needs_background": "light"
     },
     "output_type": "display_data"
    }
   ],
   "source": [
    "plt.barh(df_features.groupby('class_name').mean()['num_punctuations'].sort_values().index, \n",
    "         df_features.groupby('class_name').mean()['num_punctuations'].sort_values(), \n",
    "         align='center')"
   ]
  },
  {
   "cell_type": "code",
   "execution_count": 33,
   "id": "present-writing",
   "metadata": {},
   "outputs": [
    {
     "data": {
      "text/plain": [
       "<BarContainer object of 14 artists>"
      ]
     },
     "execution_count": 33,
     "metadata": {},
     "output_type": "execute_result"
    },
    {
     "data": {
      "image/png": "[encoded data removed]",
      "text/plain": [
       "<Figure size 432x288 with 1 Axes>"
      ]
     },
     "metadata": {
      "needs_background": "light"
     },
     "output_type": "display_data"
    }
   ],
   "source": [
    "plt.barh(df_features.groupby('class_name').mean()['num_digits'].sort_values().index, \n",
    "         df_features.groupby('class_name').mean()['num_digits'].sort_values(), \n",
    "         align='center')"
   ]
  },
  {
   "cell_type": "code",
   "execution_count": 44,
   "id": "sustained-filename",
   "metadata": {},
   "outputs": [
    {
     "data": {
      "text/html": [
       "<div>\n",
       "<style scoped>\n",
       "    .dataframe tbody tr th:only-of-type {\n",
       "        vertical-align: middle;\n",
       "    }\n",
       "\n",
       "    .dataframe tbody tr th {\n",
       "        vertical-align: top;\n",
       "    }\n",
       "\n",
       "    .dataframe thead th {\n",
       "        text-align: right;\n",
       "    }\n",
       "</style>\n",
       "<table border=\"1\" class=\"dataframe\">\n",
       "  <thead>\n",
       "    <tr style=\"text-align: right;\">\n",
       "      <th></th>\n",
       "      <th>class</th>\n",
       "      <th>name</th>\n",
       "      <th>class_name</th>\n",
       "      <th>num_chars</th>\n",
       "      <th>num_word</th>\n",
       "      <th>num_words</th>\n",
       "      <th>num_punctuations</th>\n",
       "      <th>num_digits</th>\n",
       "      <th>num_nonascii</th>\n",
       "    </tr>\n",
       "  </thead>\n",
       "  <tbody>\n",
       "    <tr>\n",
       "      <th>224087</th>\n",
       "      <td>6</td>\n",
       "      <td>HMS Providence (J325)</td>\n",
       "      <td>MeanOfTransportation</td>\n",
       "      <td>21</td>\n",
       "      <td>3</td>\n",
       "      <td>3</td>\n",
       "      <td>2</td>\n",
       "      <td>3</td>\n",
       "      <td>0</td>\n",
       "    </tr>\n",
       "    <tr>\n",
       "      <th>235389</th>\n",
       "      <td>6</td>\n",
       "      <td>USS Enterprise (1874)</td>\n",
       "      <td>MeanOfTransportation</td>\n",
       "      <td>21</td>\n",
       "      <td>3</td>\n",
       "      <td>3</td>\n",
       "      <td>2</td>\n",
       "      <td>4</td>\n",
       "      <td>0</td>\n",
       "    </tr>\n",
       "    <tr>\n",
       "      <th>203413</th>\n",
       "      <td>6</td>\n",
       "      <td>HMAS Jervis Bay (AKR 45)</td>\n",
       "      <td>MeanOfTransportation</td>\n",
       "      <td>24</td>\n",
       "      <td>5</td>\n",
       "      <td>5</td>\n",
       "      <td>2</td>\n",
       "      <td>2</td>\n",
       "      <td>0</td>\n",
       "    </tr>\n",
       "    <tr>\n",
       "      <th>233099</th>\n",
       "      <td>6</td>\n",
       "      <td>USS Lacerta (AKA-29)</td>\n",
       "      <td>MeanOfTransportation</td>\n",
       "      <td>20</td>\n",
       "      <td>3</td>\n",
       "      <td>3</td>\n",
       "      <td>3</td>\n",
       "      <td>2</td>\n",
       "      <td>0</td>\n",
       "    </tr>\n",
       "    <tr>\n",
       "      <th>234097</th>\n",
       "      <td>6</td>\n",
       "      <td>USS Cabell (AK-166)</td>\n",
       "      <td>MeanOfTransportation</td>\n",
       "      <td>19</td>\n",
       "      <td>3</td>\n",
       "      <td>3</td>\n",
       "      <td>3</td>\n",
       "      <td>3</td>\n",
       "      <td>0</td>\n",
       "    </tr>\n",
       "  </tbody>\n",
       "</table>\n",
       "</div>"
      ],
      "text/plain": [
       "        class                      name            class_name  num_chars  \\\n",
       "224087      6     HMS Providence (J325)  MeanOfTransportation         21   \n",
       "235389      6     USS Enterprise (1874)  MeanOfTransportation         21   \n",
       "203413      6  HMAS Jervis Bay (AKR 45)  MeanOfTransportation         24   \n",
       "233099      6      USS Lacerta (AKA-29)  MeanOfTransportation         20   \n",
       "234097      6       USS Cabell (AK-166)  MeanOfTransportation         19   \n",
       "\n",
       "        num_word  num_words  num_punctuations  num_digits  num_nonascii  \n",
       "224087         3          3                 2           3             0  \n",
       "235389         3          3                 2           4             0  \n",
       "203413         5          5                 2           2             0  \n",
       "233099         3          3                 3           2             0  \n",
       "234097         3          3                 3           3             0  "
      ]
     },
     "execution_count": 44,
     "metadata": {},
     "output_type": "execute_result"
    }
   ],
   "source": [
    "df_features[df_features['class_name'] == 'MeanOfTransportation'][df_features['num_digits']>1].sample(5)"
   ]
  },
  {
   "cell_type": "markdown",
   "id": "bigger-retro",
   "metadata": {},
   "source": [
    "Numbers that exist in MeanOfTransportation seem to be mainly either part of a historical year, or make of the model."
   ]
  },
  {
   "cell_type": "code",
   "execution_count": 45,
   "id": "sufficient-romance",
   "metadata": {},
   "outputs": [
    {
     "data": {
      "text/plain": [
       "<BarContainer object of 14 artists>"
      ]
     },
     "execution_count": 45,
     "metadata": {},
     "output_type": "execute_result"
    },
    {
     "data": {
      "image/png": "[encoded data removed]",
      "text/plain": [
       "<Figure size 432x288 with 1 Axes>"
      ]
     },
     "metadata": {
      "needs_background": "light"
     },
     "output_type": "display_data"
    }
   ],
   "source": [
    "plt.barh(df_features.groupby('class_name').mean()['num_nonascii'].sort_values().index, \n",
    "         df_features.groupby('class_name').mean()['num_nonascii'].sort_values(), \n",
    "         align='center')"
   ]
  },
  {
   "cell_type": "code",
   "execution_count": 93,
   "id": "assisted-insert",
   "metadata": {},
   "outputs": [
    {
     "name": "stdout",
     "output_type": "stream",
     "text": [
      "Overall, 7.06% of all records contain nonascii characters\n",
      "For class Village, 26.70% of all records contain nonascii characters\n",
      "For class NaturalPlace, 18.98% of all records contain nonascii characters\n"
     ]
    }
   ],
   "source": [
    "print('Overall, {:.2%} of all records contain nonascii characters'.format(len(df_features[df_features['num_nonascii'] > 0])/ len(df_features)))\n",
    "print('For class Village, {:.2%} of all records contain nonascii characters'.format(len(df_features[df_features['num_nonascii'] > 0].query(\"class_name == 'Village'\"))/ len(df_features.query(\"class_name == 'Village'\"))))\n",
    "print('For class NaturalPlace, {:.2%} of all records contain nonascii characters'.format(len(df_features[df_features['num_nonascii'] > 0].query(\"class_name == 'NaturalPlace'\"))/ len(df_features.query(\"class_name == 'NaturalPlace'\"))))"
   ]
  },
  {
   "cell_type": "markdown",
   "id": "anticipated-passing",
   "metadata": {},
   "source": [
    "The significantly higher presence of non-ascii characters in village, and overall uneven distribution of that among most classes, is potentially an issue. A machine learning algorithm trained on the current dataset is very likely to overfit on the spurious association of presence of 'exotic' characters in village or natural place names, even though generally, there is nothing inherently more exotic about these entities compared to the others. However, if the particular use case of this ML application expects a consistently similar distribution to what's present in this dataset for some reason, then there may be a case this confounder (presence of non-ascii characters) can be exploited mindfully, under close review of ongoing data drift, though a reframing of the class names may be more fitting and future-proof."
   ]
  },
  {
   "cell_type": "markdown",
   "id": "funny-desert",
   "metadata": {},
   "source": [
    "#### 4.4 Detected language in names and whether the distribution varies across classes."
   ]
  },
  {
   "cell_type": "code",
   "execution_count": 240,
   "id": "overall-slovenia",
   "metadata": {},
   "outputs": [],
   "source": [
    "def safe_detect_language(text):\n",
    "    if len(text) >3:\n",
    "        return TextBlob(text).detect_language()\n",
    "    else:\n",
    "        return None"
   ]
  },
  {
   "cell_type": "markdown",
   "id": "north-intention",
   "metadata": {},
   "source": [
    "Since TextBlob apparentlyy uses MyMemory API under the hood, which has a 1000 requests/ day limit. Given the magnitude of names in given dataset, it would not be feasible to use this library / API to detect language for all records. Source: https://mymemory.translated.net/doc/usagelimits.php\n",
    "\n",
    "Next, check if the quantity of names containing non-ascii characters, would be feasible to run this API on over a few days."
   ]
  },
  {
   "cell_type": "code",
   "execution_count": 94,
   "id": "together-adjustment",
   "metadata": {},
   "outputs": [
    {
     "data": {
      "text/plain": [
       "38755"
      ]
     },
     "execution_count": 94,
     "metadata": {},
     "output_type": "execute_result"
    }
   ],
   "source": [
    "len(df_features[df_features['num_nonascii'] > 0])"
   ]
  },
  {
   "cell_type": "markdown",
   "id": "built-warner",
   "metadata": {},
   "source": [
    "the quantity is still way beyond the daily quota, plus, it wouldn't be complete as some all-ascii names could still well be in a non-English language too. Park this route.\n"
   ]
  },
  {
   "cell_type": "code",
   "execution_count": 36,
   "id": "fifty-macintosh",
   "metadata": {},
   "outputs": [],
   "source": [
    "# df_features = df_features['name'].apply(lambda x: safe_detect_language(x))"
   ]
  },
  {
   "cell_type": "markdown",
   "id": "large-fabric",
   "metadata": {},
   "source": [
    "[Nice to have]: try implementing language detection using other libraries and frameworks such as Polyglot, Chardet, Langdetect, guess_language, and langid (source: https://stackoverflow.com/questions/39142778/python-how-to-determine-the-language).\n",
    "\n",
    "Parking this now as the value of extracting this feature for this particular ML use case is unclear. Would need clarification on how this application is intended to use and deployed to judge its value. "
   ]
  },
  {
   "cell_type": "markdown",
   "id": "infinite-presence",
   "metadata": {},
   "source": [
    "#### 4.5 Key words within brackets which contain key words that explicitly mention the genre"
   ]
  },
  {
   "cell_type": "code",
   "execution_count": 55,
   "id": "ready-father",
   "metadata": {},
   "outputs": [],
   "source": [
    "df_features['within_brackets'] = df_features['name'].str.extract('.*\\((.*)\\).*')"
   ]
  },
  {
   "cell_type": "code",
   "execution_count": 79,
   "id": "solar-agriculture",
   "metadata": {},
   "outputs": [
    {
     "name": "stdout",
     "output_type": "stream",
     "text": [
      "For class Company, 5.25% of names contain a term in brackets:\n",
      "['eikaiwa' 'mobile app' 'pharmacy' 'engraving company'\n",
      " 'electronics company'] \n",
      "\n",
      "For class EducationalInstitution, 11.79% of names contain a term in brackets:\n",
      "['Illinois' 'Illinois' 'Iowa' 'Ohio' 'Columbus Ohio'] \n",
      "\n",
      "For class Artist, 9.96% of names contain a term in brackets:\n",
      "['artist' 'rapper' 'musician' 'singer-songwriter' 'musician'] \n",
      "\n",
      "For class Athlete, 13.64% of names contain a term in brackets:\n",
      "['cricketer' 'footballer' 'swimmer' 'basketball' 'footballer'] \n",
      "\n",
      "For class OfficeHolder, 8.59% of names contain a term in brackets:\n",
      "['politician' 'politics' 'politician' 'judge' 'Illinois politician'] \n",
      "\n",
      "For class MeanOfTransportation, 38.34% of names contain a term in brackets:\n",
      "['icebreaker' 'D66' 'SS-57' 'PF-7' '1846'] \n",
      "\n",
      "For class Building, 16.17% of names contain a term in brackets:\n",
      "['Wayne State University' 'Andover Massachusetts' 'Indiana'\n",
      " 'Tyro Virginia' 'Mumbai'] \n",
      "\n",
      "For class NaturalPlace, 25.78% of names contain a term in brackets:\n",
      "['Breisgau' 'British Columbia' 'Boul' 'Pennsylvania' 'Wyoming'] \n",
      "\n",
      "For class Village, 2.34% of names contain a term in brackets:\n",
      "['Hvar' 'village' 'community development block' 'village' 'Prijepolje'] \n",
      "\n",
      "For class Animal, 2.24% of names contain a term in brackets:\n",
      "['horse' 'horse' 'moth' 'moth' 'gastropod'] \n",
      "\n",
      "For class Plant, 1.21% of names contain a term in brackets:\n",
      "['plant' 'plant' 'plant' 'plant' 'genus'] \n",
      "\n",
      "For class Album, 35.08% of names contain a term in brackets:\n",
      "['Marvin Gaye album' 'album' 'Part Two' 'album' 'album'] \n",
      "\n",
      "For class Film, 31.78% of names contain a term in brackets:\n",
      "['1982 film' '2000 film' 'film' 'film' 'film'] \n",
      "\n",
      "For class WrittenWork, 20.90% of names contain a term in brackets:\n",
      "['novelette' 'novel' 'novel' 'book' 'newspaper'] \n",
      "\n"
     ]
    }
   ],
   "source": [
    "groups = df_features.dropna(axis = 0).groupby('class_name')\n",
    "for i in df_features.dropna(axis = 0)['class_name'].unique():\n",
    "    print('For class {}, {:.2%} of names contain a term in brackets:'.format(i, groups.get_group(i).count().values[0]/df_features[df_features['class_name']==i].shape[0]))\n",
    "    example_names = groups.get_group(i).sample(5)['within_brackets'].values\n",
    "    print(example_names, '\\n')"
   ]
  },
  {
   "cell_type": "code",
   "execution_count": 81,
   "id": "pacific-inspection",
   "metadata": {},
   "outputs": [
    {
     "name": "stdout",
     "output_type": "stream",
     "text": [
      "Overall, 15.83% of names contain a term in brackets:\n"
     ]
    }
   ],
   "source": [
    "print('Overall, {:.2%} of names contain a term in brackets:'.format(df_features.dropna(axis = 0).shape[0]/df_features.shape[0]))"
   ]
  },
  {
   "cell_type": "markdown",
   "id": "hidden-synthetic",
   "metadata": {},
   "source": [
    "_Observations_: \n",
    "* words within brackets appear to be very telling about the class the names belong to;\n",
    "* for class such as OfficeHolder, Artist, and Athlete, it would be hard if possible at all to classify without these profession signifiers;\n",
    "* percentage of these keywords in brackets differs across classes, but overall they are only present in ~15% in the example;\n",
    "* conscious that probably not all keywords are contained in brackets (hopefully) "
   ]
  },
  {
   "cell_type": "code",
   "execution_count": null,
   "id": "respected-condition",
   "metadata": {},
   "outputs": [],
   "source": []
  }
 ],
 "metadata": {
  "environment": {
   "name": "tf2-gpu.2-3.m65",
   "type": "gcloud",
   "uri": "gcr.io/deeplearning-platform-release/tf2-gpu.2-3:m65"
  },
  "kernelspec": {
   "display_name": "Python 3",
   "language": "python",
   "name": "python3"
  },
  "language_info": {
   "codemirror_mode": {
    "name": "ipython",
    "version": 3
   },
   "file_extension": ".py",
   "mimetype": "text/x-python",
   "name": "python",
   "nbconvert_exporter": "python",
   "pygments_lexer": "ipython3",
   "version": "3.7.10"
  }
 },
 "nbformat": 4,
 "nbformat_minor": 5
}
